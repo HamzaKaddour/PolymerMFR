{
  "nbformat": 4,
  "nbformat_minor": 0,
  "metadata": {
    "colab": {
      "provenance": []
    },
    "kernelspec": {
      "name": "python3",
      "display_name": "Python 3"
    },
    "language_info": {
      "name": "python"
    },
    "widgets": {
      "application/vnd.jupyter.widget-state+json": {
        "a3a0686e056148759db5fdb4bfb09ce3": {
          "model_module": "@jupyter-widgets/controls",
          "model_name": "HBoxModel",
          "model_module_version": "1.5.0",
          "state": {
            "_dom_classes": [],
            "_model_module": "@jupyter-widgets/controls",
            "_model_module_version": "1.5.0",
            "_model_name": "HBoxModel",
            "_view_count": null,
            "_view_module": "@jupyter-widgets/controls",
            "_view_module_version": "1.5.0",
            "_view_name": "HBoxView",
            "box_style": "",
            "children": [
              "IPY_MODEL_997a26654cd14b3f9eae6e671c1b54de",
              "IPY_MODEL_af5c3b32505a41ad93f8f263df0112cc",
              "IPY_MODEL_85a85ff82297406b82b6dec2af075a1c"
            ],
            "layout": "IPY_MODEL_54089430d2894a789158df582d5604f9"
          }
        },
        "997a26654cd14b3f9eae6e671c1b54de": {
          "model_module": "@jupyter-widgets/controls",
          "model_name": "HTMLModel",
          "model_module_version": "1.5.0",
          "state": {
            "_dom_classes": [],
            "_model_module": "@jupyter-widgets/controls",
            "_model_module_version": "1.5.0",
            "_model_name": "HTMLModel",
            "_view_count": null,
            "_view_module": "@jupyter-widgets/controls",
            "_view_module_version": "1.5.0",
            "_view_name": "HTMLView",
            "description": "",
            "description_tooltip": null,
            "layout": "IPY_MODEL_d9c8400b58bc4103add8c157fc4e8e99",
            "placeholder": "​",
            "style": "IPY_MODEL_e8a3e917d116482195d0b3206f6ae48c",
            "value": "Optimization Progress: 100%"
          }
        },
        "af5c3b32505a41ad93f8f263df0112cc": {
          "model_module": "@jupyter-widgets/controls",
          "model_name": "FloatProgressModel",
          "model_module_version": "1.5.0",
          "state": {
            "_dom_classes": [],
            "_model_module": "@jupyter-widgets/controls",
            "_model_module_version": "1.5.0",
            "_model_name": "FloatProgressModel",
            "_view_count": null,
            "_view_module": "@jupyter-widgets/controls",
            "_view_module_version": "1.5.0",
            "_view_name": "ProgressView",
            "bar_style": "",
            "description": "",
            "description_tooltip": null,
            "layout": "IPY_MODEL_796f208b24904ea1907ed9e1d895a12d",
            "max": 110,
            "min": 0,
            "orientation": "horizontal",
            "style": "IPY_MODEL_a25389317acc41f097f2cb982f0f246a",
            "value": 110
          }
        },
        "85a85ff82297406b82b6dec2af075a1c": {
          "model_module": "@jupyter-widgets/controls",
          "model_name": "HTMLModel",
          "model_module_version": "1.5.0",
          "state": {
            "_dom_classes": [],
            "_model_module": "@jupyter-widgets/controls",
            "_model_module_version": "1.5.0",
            "_model_name": "HTMLModel",
            "_view_count": null,
            "_view_module": "@jupyter-widgets/controls",
            "_view_module_version": "1.5.0",
            "_view_name": "HTMLView",
            "description": "",
            "description_tooltip": null,
            "layout": "IPY_MODEL_1a49517defa7418e892d6be200a6201c",
            "placeholder": "​",
            "style": "IPY_MODEL_2c81be1fce5a41ba97c1007b10fdc3c7",
            "value": " 110/110 [04:57&lt;00:00,  1.28s/pipeline]"
          }
        },
        "54089430d2894a789158df582d5604f9": {
          "model_module": "@jupyter-widgets/base",
          "model_name": "LayoutModel",
          "model_module_version": "1.2.0",
          "state": {
            "_model_module": "@jupyter-widgets/base",
            "_model_module_version": "1.2.0",
            "_model_name": "LayoutModel",
            "_view_count": null,
            "_view_module": "@jupyter-widgets/base",
            "_view_module_version": "1.2.0",
            "_view_name": "LayoutView",
            "align_content": null,
            "align_items": null,
            "align_self": null,
            "border": null,
            "bottom": null,
            "display": null,
            "flex": null,
            "flex_flow": null,
            "grid_area": null,
            "grid_auto_columns": null,
            "grid_auto_flow": null,
            "grid_auto_rows": null,
            "grid_column": null,
            "grid_gap": null,
            "grid_row": null,
            "grid_template_areas": null,
            "grid_template_columns": null,
            "grid_template_rows": null,
            "height": null,
            "justify_content": null,
            "justify_items": null,
            "left": null,
            "margin": null,
            "max_height": null,
            "max_width": null,
            "min_height": null,
            "min_width": null,
            "object_fit": null,
            "object_position": null,
            "order": null,
            "overflow": null,
            "overflow_x": null,
            "overflow_y": null,
            "padding": null,
            "right": null,
            "top": null,
            "visibility": "hidden",
            "width": null
          }
        },
        "d9c8400b58bc4103add8c157fc4e8e99": {
          "model_module": "@jupyter-widgets/base",
          "model_name": "LayoutModel",
          "model_module_version": "1.2.0",
          "state": {
            "_model_module": "@jupyter-widgets/base",
            "_model_module_version": "1.2.0",
            "_model_name": "LayoutModel",
            "_view_count": null,
            "_view_module": "@jupyter-widgets/base",
            "_view_module_version": "1.2.0",
            "_view_name": "LayoutView",
            "align_content": null,
            "align_items": null,
            "align_self": null,
            "border": null,
            "bottom": null,
            "display": null,
            "flex": null,
            "flex_flow": null,
            "grid_area": null,
            "grid_auto_columns": null,
            "grid_auto_flow": null,
            "grid_auto_rows": null,
            "grid_column": null,
            "grid_gap": null,
            "grid_row": null,
            "grid_template_areas": null,
            "grid_template_columns": null,
            "grid_template_rows": null,
            "height": null,
            "justify_content": null,
            "justify_items": null,
            "left": null,
            "margin": null,
            "max_height": null,
            "max_width": null,
            "min_height": null,
            "min_width": null,
            "object_fit": null,
            "object_position": null,
            "order": null,
            "overflow": null,
            "overflow_x": null,
            "overflow_y": null,
            "padding": null,
            "right": null,
            "top": null,
            "visibility": null,
            "width": null
          }
        },
        "e8a3e917d116482195d0b3206f6ae48c": {
          "model_module": "@jupyter-widgets/controls",
          "model_name": "DescriptionStyleModel",
          "model_module_version": "1.5.0",
          "state": {
            "_model_module": "@jupyter-widgets/controls",
            "_model_module_version": "1.5.0",
            "_model_name": "DescriptionStyleModel",
            "_view_count": null,
            "_view_module": "@jupyter-widgets/base",
            "_view_module_version": "1.2.0",
            "_view_name": "StyleView",
            "description_width": ""
          }
        },
        "796f208b24904ea1907ed9e1d895a12d": {
          "model_module": "@jupyter-widgets/base",
          "model_name": "LayoutModel",
          "model_module_version": "1.2.0",
          "state": {
            "_model_module": "@jupyter-widgets/base",
            "_model_module_version": "1.2.0",
            "_model_name": "LayoutModel",
            "_view_count": null,
            "_view_module": "@jupyter-widgets/base",
            "_view_module_version": "1.2.0",
            "_view_name": "LayoutView",
            "align_content": null,
            "align_items": null,
            "align_self": null,
            "border": null,
            "bottom": null,
            "display": null,
            "flex": null,
            "flex_flow": null,
            "grid_area": null,
            "grid_auto_columns": null,
            "grid_auto_flow": null,
            "grid_auto_rows": null,
            "grid_column": null,
            "grid_gap": null,
            "grid_row": null,
            "grid_template_areas": null,
            "grid_template_columns": null,
            "grid_template_rows": null,
            "height": null,
            "justify_content": null,
            "justify_items": null,
            "left": null,
            "margin": null,
            "max_height": null,
            "max_width": null,
            "min_height": null,
            "min_width": null,
            "object_fit": null,
            "object_position": null,
            "order": null,
            "overflow": null,
            "overflow_x": null,
            "overflow_y": null,
            "padding": null,
            "right": null,
            "top": null,
            "visibility": null,
            "width": null
          }
        },
        "a25389317acc41f097f2cb982f0f246a": {
          "model_module": "@jupyter-widgets/controls",
          "model_name": "ProgressStyleModel",
          "model_module_version": "1.5.0",
          "state": {
            "_model_module": "@jupyter-widgets/controls",
            "_model_module_version": "1.5.0",
            "_model_name": "ProgressStyleModel",
            "_view_count": null,
            "_view_module": "@jupyter-widgets/base",
            "_view_module_version": "1.2.0",
            "_view_name": "StyleView",
            "bar_color": null,
            "description_width": ""
          }
        },
        "1a49517defa7418e892d6be200a6201c": {
          "model_module": "@jupyter-widgets/base",
          "model_name": "LayoutModel",
          "model_module_version": "1.2.0",
          "state": {
            "_model_module": "@jupyter-widgets/base",
            "_model_module_version": "1.2.0",
            "_model_name": "LayoutModel",
            "_view_count": null,
            "_view_module": "@jupyter-widgets/base",
            "_view_module_version": "1.2.0",
            "_view_name": "LayoutView",
            "align_content": null,
            "align_items": null,
            "align_self": null,
            "border": null,
            "bottom": null,
            "display": null,
            "flex": null,
            "flex_flow": null,
            "grid_area": null,
            "grid_auto_columns": null,
            "grid_auto_flow": null,
            "grid_auto_rows": null,
            "grid_column": null,
            "grid_gap": null,
            "grid_row": null,
            "grid_template_areas": null,
            "grid_template_columns": null,
            "grid_template_rows": null,
            "height": null,
            "justify_content": null,
            "justify_items": null,
            "left": null,
            "margin": null,
            "max_height": null,
            "max_width": null,
            "min_height": null,
            "min_width": null,
            "object_fit": null,
            "object_position": null,
            "order": null,
            "overflow": null,
            "overflow_x": null,
            "overflow_y": null,
            "padding": null,
            "right": null,
            "top": null,
            "visibility": null,
            "width": null
          }
        },
        "2c81be1fce5a41ba97c1007b10fdc3c7": {
          "model_module": "@jupyter-widgets/controls",
          "model_name": "DescriptionStyleModel",
          "model_module_version": "1.5.0",
          "state": {
            "_model_module": "@jupyter-widgets/controls",
            "_model_module_version": "1.5.0",
            "_model_name": "DescriptionStyleModel",
            "_view_count": null,
            "_view_module": "@jupyter-widgets/base",
            "_view_module_version": "1.2.0",
            "_view_name": "StyleView",
            "description_width": ""
          }
        }
      }
    }
  },
  "cells": [
    {
      "cell_type": "code",
      "execution_count": 4,
      "metadata": {
        "colab": {
          "base_uri": "https://localhost:8080/"
        },
        "id": "9ups6bkdQONo",
        "outputId": "8c3472f3-ffe3-4494-9459-5e566c5a9977"
      },
      "outputs": [
        {
          "output_type": "stream",
          "name": "stdout",
          "text": [
            "Drive already mounted at /content/drive; to attempt to forcibly remount, call drive.mount(\"/content/drive\", force_remount=True).\n"
          ]
        }
      ],
      "source": [
        "from google.colab import drive\n",
        "drive.mount('/content/drive')"
      ]
    },
    {
      "cell_type": "code",
      "source": [
        "import pandas as pd\n",
        "import numpy as np"
      ],
      "metadata": {
        "id": "YTE3nhunQoPR"
      },
      "execution_count": 5,
      "outputs": []
    },
    {
      "cell_type": "code",
      "source": [
        "reactor_data_w_time = pd.read_csv('/content/drive/MyDrive/polymer_reactor.txt')"
      ],
      "metadata": {
        "id": "bS2uQU9XQfBz"
      },
      "execution_count": 6,
      "outputs": []
    },
    {
      "cell_type": "markdown",
      "source": [
        "##Data Analysis"
      ],
      "metadata": {
        "id": "MWorLsyl2riU"
      }
    },
    {
      "cell_type": "code",
      "source": [
        "reactor_data_w_time.iloc[2100:]"
      ],
      "metadata": {
        "colab": {
          "base_uri": "https://localhost:8080/",
          "height": 614
        },
        "id": "9oh05P5SQ0pc",
        "outputId": "44a4036a-dbfb-4762-b97b-dc6e01a348e2"
      },
      "execution_count": 7,
      "outputs": [
        {
          "output_type": "execute_result",
          "data": {
            "text/plain": [
              "            Unnamed: 0  513FC31103.pv  513HC31114-5.mv  513PC31201.pv  \\\n",
              "2100  10/29/2018 11:45      21669.730            0.180      30.892557   \n",
              "2101  10/29/2018 13:45      21104.066            0.179      30.943935   \n",
              "2102  10/29/2018 15:45      20772.168            0.179      31.103821   \n",
              "2103  10/29/2018 17:45      21072.043            0.179      30.873522   \n",
              "2104  10/29/2018 19:45      20988.229            0.179      31.012695   \n",
              "...                ...            ...              ...            ...   \n",
              "2559     12-10-18 9:45      24437.988            0.185      31.025928   \n",
              "2560  12/17/2018 16:45            NaN              NaN            NaN   \n",
              "2561  12/17/2018 18:45            NaN              NaN            NaN   \n",
              "2562   12/27/2018 5:45            NaN              NaN            NaN   \n",
              "2563  12/31/2018 23:45            NaN            0.000            NaN   \n",
              "\n",
              "      513LC31202.pv  513FC31409.pv  513FC31114-5.pv  513TC31220.pv   MFR  \n",
              "2100      76.715584      26112.104         0.110203      80.136581  14.3  \n",
              "2101      77.123138      29730.547         0.097483      79.830345  13.8  \n",
              "2102      76.768845      30804.184         0.098374      79.598404  13.5  \n",
              "2103      76.974831      30674.375         0.085419      79.773842  13.6  \n",
              "2104      77.105034      28458.432         0.085877      79.899765  13.2  \n",
              "...             ...            ...              ...            ...   ...  \n",
              "2559      77.189499      24022.730         0.103966      81.783371  12.3  \n",
              "2560            NaN            NaN              NaN            NaN   3.5  \n",
              "2561            NaN            NaN              NaN            NaN   4.0  \n",
              "2562            NaN            NaN              NaN            NaN   3.7  \n",
              "2563            NaN            NaN              NaN            NaN   3.4  \n",
              "\n",
              "[464 rows x 9 columns]"
            ],
            "text/html": [
              "\n",
              "  <div id=\"df-814ebbb2-7691-4c87-b9e8-70886e63b975\" class=\"colab-df-container\">\n",
              "    <div>\n",
              "<style scoped>\n",
              "    .dataframe tbody tr th:only-of-type {\n",
              "        vertical-align: middle;\n",
              "    }\n",
              "\n",
              "    .dataframe tbody tr th {\n",
              "        vertical-align: top;\n",
              "    }\n",
              "\n",
              "    .dataframe thead th {\n",
              "        text-align: right;\n",
              "    }\n",
              "</style>\n",
              "<table border=\"1\" class=\"dataframe\">\n",
              "  <thead>\n",
              "    <tr style=\"text-align: right;\">\n",
              "      <th></th>\n",
              "      <th>Unnamed: 0</th>\n",
              "      <th>513FC31103.pv</th>\n",
              "      <th>513HC31114-5.mv</th>\n",
              "      <th>513PC31201.pv</th>\n",
              "      <th>513LC31202.pv</th>\n",
              "      <th>513FC31409.pv</th>\n",
              "      <th>513FC31114-5.pv</th>\n",
              "      <th>513TC31220.pv</th>\n",
              "      <th>MFR</th>\n",
              "    </tr>\n",
              "  </thead>\n",
              "  <tbody>\n",
              "    <tr>\n",
              "      <th>2100</th>\n",
              "      <td>10/29/2018 11:45</td>\n",
              "      <td>21669.730</td>\n",
              "      <td>0.180</td>\n",
              "      <td>30.892557</td>\n",
              "      <td>76.715584</td>\n",
              "      <td>26112.104</td>\n",
              "      <td>0.110203</td>\n",
              "      <td>80.136581</td>\n",
              "      <td>14.3</td>\n",
              "    </tr>\n",
              "    <tr>\n",
              "      <th>2101</th>\n",
              "      <td>10/29/2018 13:45</td>\n",
              "      <td>21104.066</td>\n",
              "      <td>0.179</td>\n",
              "      <td>30.943935</td>\n",
              "      <td>77.123138</td>\n",
              "      <td>29730.547</td>\n",
              "      <td>0.097483</td>\n",
              "      <td>79.830345</td>\n",
              "      <td>13.8</td>\n",
              "    </tr>\n",
              "    <tr>\n",
              "      <th>2102</th>\n",
              "      <td>10/29/2018 15:45</td>\n",
              "      <td>20772.168</td>\n",
              "      <td>0.179</td>\n",
              "      <td>31.103821</td>\n",
              "      <td>76.768845</td>\n",
              "      <td>30804.184</td>\n",
              "      <td>0.098374</td>\n",
              "      <td>79.598404</td>\n",
              "      <td>13.5</td>\n",
              "    </tr>\n",
              "    <tr>\n",
              "      <th>2103</th>\n",
              "      <td>10/29/2018 17:45</td>\n",
              "      <td>21072.043</td>\n",
              "      <td>0.179</td>\n",
              "      <td>30.873522</td>\n",
              "      <td>76.974831</td>\n",
              "      <td>30674.375</td>\n",
              "      <td>0.085419</td>\n",
              "      <td>79.773842</td>\n",
              "      <td>13.6</td>\n",
              "    </tr>\n",
              "    <tr>\n",
              "      <th>2104</th>\n",
              "      <td>10/29/2018 19:45</td>\n",
              "      <td>20988.229</td>\n",
              "      <td>0.179</td>\n",
              "      <td>31.012695</td>\n",
              "      <td>77.105034</td>\n",
              "      <td>28458.432</td>\n",
              "      <td>0.085877</td>\n",
              "      <td>79.899765</td>\n",
              "      <td>13.2</td>\n",
              "    </tr>\n",
              "    <tr>\n",
              "      <th>...</th>\n",
              "      <td>...</td>\n",
              "      <td>...</td>\n",
              "      <td>...</td>\n",
              "      <td>...</td>\n",
              "      <td>...</td>\n",
              "      <td>...</td>\n",
              "      <td>...</td>\n",
              "      <td>...</td>\n",
              "      <td>...</td>\n",
              "    </tr>\n",
              "    <tr>\n",
              "      <th>2559</th>\n",
              "      <td>12-10-18 9:45</td>\n",
              "      <td>24437.988</td>\n",
              "      <td>0.185</td>\n",
              "      <td>31.025928</td>\n",
              "      <td>77.189499</td>\n",
              "      <td>24022.730</td>\n",
              "      <td>0.103966</td>\n",
              "      <td>81.783371</td>\n",
              "      <td>12.3</td>\n",
              "    </tr>\n",
              "    <tr>\n",
              "      <th>2560</th>\n",
              "      <td>12/17/2018 16:45</td>\n",
              "      <td>NaN</td>\n",
              "      <td>NaN</td>\n",
              "      <td>NaN</td>\n",
              "      <td>NaN</td>\n",
              "      <td>NaN</td>\n",
              "      <td>NaN</td>\n",
              "      <td>NaN</td>\n",
              "      <td>3.5</td>\n",
              "    </tr>\n",
              "    <tr>\n",
              "      <th>2561</th>\n",
              "      <td>12/17/2018 18:45</td>\n",
              "      <td>NaN</td>\n",
              "      <td>NaN</td>\n",
              "      <td>NaN</td>\n",
              "      <td>NaN</td>\n",
              "      <td>NaN</td>\n",
              "      <td>NaN</td>\n",
              "      <td>NaN</td>\n",
              "      <td>4.0</td>\n",
              "    </tr>\n",
              "    <tr>\n",
              "      <th>2562</th>\n",
              "      <td>12/27/2018 5:45</td>\n",
              "      <td>NaN</td>\n",
              "      <td>NaN</td>\n",
              "      <td>NaN</td>\n",
              "      <td>NaN</td>\n",
              "      <td>NaN</td>\n",
              "      <td>NaN</td>\n",
              "      <td>NaN</td>\n",
              "      <td>3.7</td>\n",
              "    </tr>\n",
              "    <tr>\n",
              "      <th>2563</th>\n",
              "      <td>12/31/2018 23:45</td>\n",
              "      <td>NaN</td>\n",
              "      <td>0.000</td>\n",
              "      <td>NaN</td>\n",
              "      <td>NaN</td>\n",
              "      <td>NaN</td>\n",
              "      <td>NaN</td>\n",
              "      <td>NaN</td>\n",
              "      <td>3.4</td>\n",
              "    </tr>\n",
              "  </tbody>\n",
              "</table>\n",
              "<p>464 rows × 9 columns</p>\n",
              "</div>\n",
              "    <div class=\"colab-df-buttons\">\n",
              "\n",
              "  <div class=\"colab-df-container\">\n",
              "    <button class=\"colab-df-convert\" onclick=\"convertToInteractive('df-814ebbb2-7691-4c87-b9e8-70886e63b975')\"\n",
              "            title=\"Convert this dataframe to an interactive table.\"\n",
              "            style=\"display:none;\">\n",
              "\n",
              "  <svg xmlns=\"http://www.w3.org/2000/svg\" height=\"24px\" viewBox=\"0 -960 960 960\">\n",
              "    <path d=\"M120-120v-720h720v720H120Zm60-500h600v-160H180v160Zm220 220h160v-160H400v160Zm0 220h160v-160H400v160ZM180-400h160v-160H180v160Zm440 0h160v-160H620v160ZM180-180h160v-160H180v160Zm440 0h160v-160H620v160Z\"/>\n",
              "  </svg>\n",
              "    </button>\n",
              "\n",
              "  <style>\n",
              "    .colab-df-container {\n",
              "      display:flex;\n",
              "      gap: 12px;\n",
              "    }\n",
              "\n",
              "    .colab-df-convert {\n",
              "      background-color: #E8F0FE;\n",
              "      border: none;\n",
              "      border-radius: 50%;\n",
              "      cursor: pointer;\n",
              "      display: none;\n",
              "      fill: #1967D2;\n",
              "      height: 32px;\n",
              "      padding: 0 0 0 0;\n",
              "      width: 32px;\n",
              "    }\n",
              "\n",
              "    .colab-df-convert:hover {\n",
              "      background-color: #E2EBFA;\n",
              "      box-shadow: 0px 1px 2px rgba(60, 64, 67, 0.3), 0px 1px 3px 1px rgba(60, 64, 67, 0.15);\n",
              "      fill: #174EA6;\n",
              "    }\n",
              "\n",
              "    .colab-df-buttons div {\n",
              "      margin-bottom: 4px;\n",
              "    }\n",
              "\n",
              "    [theme=dark] .colab-df-convert {\n",
              "      background-color: #3B4455;\n",
              "      fill: #D2E3FC;\n",
              "    }\n",
              "\n",
              "    [theme=dark] .colab-df-convert:hover {\n",
              "      background-color: #434B5C;\n",
              "      box-shadow: 0px 1px 3px 1px rgba(0, 0, 0, 0.15);\n",
              "      filter: drop-shadow(0px 1px 2px rgba(0, 0, 0, 0.3));\n",
              "      fill: #FFFFFF;\n",
              "    }\n",
              "  </style>\n",
              "\n",
              "    <script>\n",
              "      const buttonEl =\n",
              "        document.querySelector('#df-814ebbb2-7691-4c87-b9e8-70886e63b975 button.colab-df-convert');\n",
              "      buttonEl.style.display =\n",
              "        google.colab.kernel.accessAllowed ? 'block' : 'none';\n",
              "\n",
              "      async function convertToInteractive(key) {\n",
              "        const element = document.querySelector('#df-814ebbb2-7691-4c87-b9e8-70886e63b975');\n",
              "        const dataTable =\n",
              "          await google.colab.kernel.invokeFunction('convertToInteractive',\n",
              "                                                    [key], {});\n",
              "        if (!dataTable) return;\n",
              "\n",
              "        const docLinkHtml = 'Like what you see? Visit the ' +\n",
              "          '<a target=\"_blank\" href=https://colab.research.google.com/notebooks/data_table.ipynb>data table notebook</a>'\n",
              "          + ' to learn more about interactive tables.';\n",
              "        element.innerHTML = '';\n",
              "        dataTable['output_type'] = 'display_data';\n",
              "        await google.colab.output.renderOutput(dataTable, element);\n",
              "        const docLink = document.createElement('div');\n",
              "        docLink.innerHTML = docLinkHtml;\n",
              "        element.appendChild(docLink);\n",
              "      }\n",
              "    </script>\n",
              "  </div>\n",
              "\n",
              "\n",
              "<div id=\"df-f9a22552-2670-4571-a080-d55f8b54119b\">\n",
              "  <button class=\"colab-df-quickchart\" onclick=\"quickchart('df-f9a22552-2670-4571-a080-d55f8b54119b')\"\n",
              "            title=\"Suggest charts\"\n",
              "            style=\"display:none;\">\n",
              "\n",
              "<svg xmlns=\"http://www.w3.org/2000/svg\" height=\"24px\"viewBox=\"0 0 24 24\"\n",
              "     width=\"24px\">\n",
              "    <g>\n",
              "        <path d=\"M19 3H5c-1.1 0-2 .9-2 2v14c0 1.1.9 2 2 2h14c1.1 0 2-.9 2-2V5c0-1.1-.9-2-2-2zM9 17H7v-7h2v7zm4 0h-2V7h2v10zm4 0h-2v-4h2v4z\"/>\n",
              "    </g>\n",
              "</svg>\n",
              "  </button>\n",
              "\n",
              "<style>\n",
              "  .colab-df-quickchart {\n",
              "      --bg-color: #E8F0FE;\n",
              "      --fill-color: #1967D2;\n",
              "      --hover-bg-color: #E2EBFA;\n",
              "      --hover-fill-color: #174EA6;\n",
              "      --disabled-fill-color: #AAA;\n",
              "      --disabled-bg-color: #DDD;\n",
              "  }\n",
              "\n",
              "  [theme=dark] .colab-df-quickchart {\n",
              "      --bg-color: #3B4455;\n",
              "      --fill-color: #D2E3FC;\n",
              "      --hover-bg-color: #434B5C;\n",
              "      --hover-fill-color: #FFFFFF;\n",
              "      --disabled-bg-color: #3B4455;\n",
              "      --disabled-fill-color: #666;\n",
              "  }\n",
              "\n",
              "  .colab-df-quickchart {\n",
              "    background-color: var(--bg-color);\n",
              "    border: none;\n",
              "    border-radius: 50%;\n",
              "    cursor: pointer;\n",
              "    display: none;\n",
              "    fill: var(--fill-color);\n",
              "    height: 32px;\n",
              "    padding: 0;\n",
              "    width: 32px;\n",
              "  }\n",
              "\n",
              "  .colab-df-quickchart:hover {\n",
              "    background-color: var(--hover-bg-color);\n",
              "    box-shadow: 0 1px 2px rgba(60, 64, 67, 0.3), 0 1px 3px 1px rgba(60, 64, 67, 0.15);\n",
              "    fill: var(--button-hover-fill-color);\n",
              "  }\n",
              "\n",
              "  .colab-df-quickchart-complete:disabled,\n",
              "  .colab-df-quickchart-complete:disabled:hover {\n",
              "    background-color: var(--disabled-bg-color);\n",
              "    fill: var(--disabled-fill-color);\n",
              "    box-shadow: none;\n",
              "  }\n",
              "\n",
              "  .colab-df-spinner {\n",
              "    border: 2px solid var(--fill-color);\n",
              "    border-color: transparent;\n",
              "    border-bottom-color: var(--fill-color);\n",
              "    animation:\n",
              "      spin 1s steps(1) infinite;\n",
              "  }\n",
              "\n",
              "  @keyframes spin {\n",
              "    0% {\n",
              "      border-color: transparent;\n",
              "      border-bottom-color: var(--fill-color);\n",
              "      border-left-color: var(--fill-color);\n",
              "    }\n",
              "    20% {\n",
              "      border-color: transparent;\n",
              "      border-left-color: var(--fill-color);\n",
              "      border-top-color: var(--fill-color);\n",
              "    }\n",
              "    30% {\n",
              "      border-color: transparent;\n",
              "      border-left-color: var(--fill-color);\n",
              "      border-top-color: var(--fill-color);\n",
              "      border-right-color: var(--fill-color);\n",
              "    }\n",
              "    40% {\n",
              "      border-color: transparent;\n",
              "      border-right-color: var(--fill-color);\n",
              "      border-top-color: var(--fill-color);\n",
              "    }\n",
              "    60% {\n",
              "      border-color: transparent;\n",
              "      border-right-color: var(--fill-color);\n",
              "    }\n",
              "    80% {\n",
              "      border-color: transparent;\n",
              "      border-right-color: var(--fill-color);\n",
              "      border-bottom-color: var(--fill-color);\n",
              "    }\n",
              "    90% {\n",
              "      border-color: transparent;\n",
              "      border-bottom-color: var(--fill-color);\n",
              "    }\n",
              "  }\n",
              "</style>\n",
              "\n",
              "  <script>\n",
              "    async function quickchart(key) {\n",
              "      const quickchartButtonEl =\n",
              "        document.querySelector('#' + key + ' button');\n",
              "      quickchartButtonEl.disabled = true;  // To prevent multiple clicks.\n",
              "      quickchartButtonEl.classList.add('colab-df-spinner');\n",
              "      try {\n",
              "        const charts = await google.colab.kernel.invokeFunction(\n",
              "            'suggestCharts', [key], {});\n",
              "      } catch (error) {\n",
              "        console.error('Error during call to suggestCharts:', error);\n",
              "      }\n",
              "      quickchartButtonEl.classList.remove('colab-df-spinner');\n",
              "      quickchartButtonEl.classList.add('colab-df-quickchart-complete');\n",
              "    }\n",
              "    (() => {\n",
              "      let quickchartButtonEl =\n",
              "        document.querySelector('#df-f9a22552-2670-4571-a080-d55f8b54119b button');\n",
              "      quickchartButtonEl.style.display =\n",
              "        google.colab.kernel.accessAllowed ? 'block' : 'none';\n",
              "    })();\n",
              "  </script>\n",
              "</div>\n",
              "    </div>\n",
              "  </div>\n"
            ],
            "application/vnd.google.colaboratory.intrinsic+json": {
              "type": "dataframe",
              "repr_error": "0"
            }
          },
          "metadata": {},
          "execution_count": 7
        }
      ]
    },
    {
      "cell_type": "code",
      "source": [
        "#use labels instead of data file tags\n",
        "reactor_data_w_time = reactor_data_w_time.rename(columns={'Unnamed: 0': 'Time', '513FC31103.pv': 'C3', '513HC31114-5.mv': 'H2R', '513PC31201.pv': 'Pressure', '513LC31202.pv': 'Level', '513FC31409.pv': 'C2', '513FC31114-5.pv': 'Cat', '513TC31220.pv': 'Temp'})"
      ],
      "metadata": {
        "id": "ye-Z06lhRhUM"
      },
      "execution_count": 8,
      "outputs": []
    },
    {
      "cell_type": "code",
      "source": [
        "reactor_data_w_time = reactor_data_w_time.dropna()"
      ],
      "metadata": {
        "id": "XIoXDBlRwJw-"
      },
      "execution_count": 9,
      "outputs": []
    },
    {
      "cell_type": "code",
      "source": [
        "reactor_data_w_time.isnull().values.any()"
      ],
      "metadata": {
        "colab": {
          "base_uri": "https://localhost:8080/"
        },
        "id": "yg4teButqodl",
        "outputId": "83966df1-04f6-4ca8-e7e5-c857eb7c5be2"
      },
      "execution_count": 10,
      "outputs": [
        {
          "output_type": "execute_result",
          "data": {
            "text/plain": [
              "False"
            ]
          },
          "metadata": {},
          "execution_count": 10
        }
      ]
    },
    {
      "cell_type": "code",
      "source": [
        "#drop the time the data point was taken\n",
        "reactor_data = reactor_data_w_time.drop('Time', axis=1 )"
      ],
      "metadata": {
        "id": "Vb73V4dnSqGe"
      },
      "execution_count": 11,
      "outputs": []
    },
    {
      "cell_type": "code",
      "source": [
        "reactor_data.head()"
      ],
      "metadata": {
        "colab": {
          "base_uri": "https://localhost:8080/",
          "height": 206
        },
        "id": "Ee8eWS0hq1p1",
        "outputId": "5029f37c-8382-4c3b-af2d-bcbf920866e3"
      },
      "execution_count": 12,
      "outputs": [
        {
          "output_type": "execute_result",
          "data": {
            "text/plain": [
              "          C3    H2R   Pressure      Level         C2       Cat       Temp  MFR\n",
              "0  24856.584  0.153  30.414835  79.657906  50850.578  0.163994  80.399605  3.4\n",
              "1  25537.250  0.153  30.527121  78.532608  42229.813  0.129739  78.861328  3.2\n",
              "2  25689.266  0.153  30.356180  78.842636  45335.852  0.150003  78.818115  3.2\n",
              "3  25098.754  0.153  30.894308  79.173500  43077.016  0.151543  79.022720  3.1\n",
              "4  24853.941  0.150  30.680647  78.677299  40404.387  0.122582  79.038483  3.3"
            ],
            "text/html": [
              "\n",
              "  <div id=\"df-30b585b8-d96c-46f3-9003-a50a4493aec3\" class=\"colab-df-container\">\n",
              "    <div>\n",
              "<style scoped>\n",
              "    .dataframe tbody tr th:only-of-type {\n",
              "        vertical-align: middle;\n",
              "    }\n",
              "\n",
              "    .dataframe tbody tr th {\n",
              "        vertical-align: top;\n",
              "    }\n",
              "\n",
              "    .dataframe thead th {\n",
              "        text-align: right;\n",
              "    }\n",
              "</style>\n",
              "<table border=\"1\" class=\"dataframe\">\n",
              "  <thead>\n",
              "    <tr style=\"text-align: right;\">\n",
              "      <th></th>\n",
              "      <th>C3</th>\n",
              "      <th>H2R</th>\n",
              "      <th>Pressure</th>\n",
              "      <th>Level</th>\n",
              "      <th>C2</th>\n",
              "      <th>Cat</th>\n",
              "      <th>Temp</th>\n",
              "      <th>MFR</th>\n",
              "    </tr>\n",
              "  </thead>\n",
              "  <tbody>\n",
              "    <tr>\n",
              "      <th>0</th>\n",
              "      <td>24856.584</td>\n",
              "      <td>0.153</td>\n",
              "      <td>30.414835</td>\n",
              "      <td>79.657906</td>\n",
              "      <td>50850.578</td>\n",
              "      <td>0.163994</td>\n",
              "      <td>80.399605</td>\n",
              "      <td>3.4</td>\n",
              "    </tr>\n",
              "    <tr>\n",
              "      <th>1</th>\n",
              "      <td>25537.250</td>\n",
              "      <td>0.153</td>\n",
              "      <td>30.527121</td>\n",
              "      <td>78.532608</td>\n",
              "      <td>42229.813</td>\n",
              "      <td>0.129739</td>\n",
              "      <td>78.861328</td>\n",
              "      <td>3.2</td>\n",
              "    </tr>\n",
              "    <tr>\n",
              "      <th>2</th>\n",
              "      <td>25689.266</td>\n",
              "      <td>0.153</td>\n",
              "      <td>30.356180</td>\n",
              "      <td>78.842636</td>\n",
              "      <td>45335.852</td>\n",
              "      <td>0.150003</td>\n",
              "      <td>78.818115</td>\n",
              "      <td>3.2</td>\n",
              "    </tr>\n",
              "    <tr>\n",
              "      <th>3</th>\n",
              "      <td>25098.754</td>\n",
              "      <td>0.153</td>\n",
              "      <td>30.894308</td>\n",
              "      <td>79.173500</td>\n",
              "      <td>43077.016</td>\n",
              "      <td>0.151543</td>\n",
              "      <td>79.022720</td>\n",
              "      <td>3.1</td>\n",
              "    </tr>\n",
              "    <tr>\n",
              "      <th>4</th>\n",
              "      <td>24853.941</td>\n",
              "      <td>0.150</td>\n",
              "      <td>30.680647</td>\n",
              "      <td>78.677299</td>\n",
              "      <td>40404.387</td>\n",
              "      <td>0.122582</td>\n",
              "      <td>79.038483</td>\n",
              "      <td>3.3</td>\n",
              "    </tr>\n",
              "  </tbody>\n",
              "</table>\n",
              "</div>\n",
              "    <div class=\"colab-df-buttons\">\n",
              "\n",
              "  <div class=\"colab-df-container\">\n",
              "    <button class=\"colab-df-convert\" onclick=\"convertToInteractive('df-30b585b8-d96c-46f3-9003-a50a4493aec3')\"\n",
              "            title=\"Convert this dataframe to an interactive table.\"\n",
              "            style=\"display:none;\">\n",
              "\n",
              "  <svg xmlns=\"http://www.w3.org/2000/svg\" height=\"24px\" viewBox=\"0 -960 960 960\">\n",
              "    <path d=\"M120-120v-720h720v720H120Zm60-500h600v-160H180v160Zm220 220h160v-160H400v160Zm0 220h160v-160H400v160ZM180-400h160v-160H180v160Zm440 0h160v-160H620v160ZM180-180h160v-160H180v160Zm440 0h160v-160H620v160Z\"/>\n",
              "  </svg>\n",
              "    </button>\n",
              "\n",
              "  <style>\n",
              "    .colab-df-container {\n",
              "      display:flex;\n",
              "      gap: 12px;\n",
              "    }\n",
              "\n",
              "    .colab-df-convert {\n",
              "      background-color: #E8F0FE;\n",
              "      border: none;\n",
              "      border-radius: 50%;\n",
              "      cursor: pointer;\n",
              "      display: none;\n",
              "      fill: #1967D2;\n",
              "      height: 32px;\n",
              "      padding: 0 0 0 0;\n",
              "      width: 32px;\n",
              "    }\n",
              "\n",
              "    .colab-df-convert:hover {\n",
              "      background-color: #E2EBFA;\n",
              "      box-shadow: 0px 1px 2px rgba(60, 64, 67, 0.3), 0px 1px 3px 1px rgba(60, 64, 67, 0.15);\n",
              "      fill: #174EA6;\n",
              "    }\n",
              "\n",
              "    .colab-df-buttons div {\n",
              "      margin-bottom: 4px;\n",
              "    }\n",
              "\n",
              "    [theme=dark] .colab-df-convert {\n",
              "      background-color: #3B4455;\n",
              "      fill: #D2E3FC;\n",
              "    }\n",
              "\n",
              "    [theme=dark] .colab-df-convert:hover {\n",
              "      background-color: #434B5C;\n",
              "      box-shadow: 0px 1px 3px 1px rgba(0, 0, 0, 0.15);\n",
              "      filter: drop-shadow(0px 1px 2px rgba(0, 0, 0, 0.3));\n",
              "      fill: #FFFFFF;\n",
              "    }\n",
              "  </style>\n",
              "\n",
              "    <script>\n",
              "      const buttonEl =\n",
              "        document.querySelector('#df-30b585b8-d96c-46f3-9003-a50a4493aec3 button.colab-df-convert');\n",
              "      buttonEl.style.display =\n",
              "        google.colab.kernel.accessAllowed ? 'block' : 'none';\n",
              "\n",
              "      async function convertToInteractive(key) {\n",
              "        const element = document.querySelector('#df-30b585b8-d96c-46f3-9003-a50a4493aec3');\n",
              "        const dataTable =\n",
              "          await google.colab.kernel.invokeFunction('convertToInteractive',\n",
              "                                                    [key], {});\n",
              "        if (!dataTable) return;\n",
              "\n",
              "        const docLinkHtml = 'Like what you see? Visit the ' +\n",
              "          '<a target=\"_blank\" href=https://colab.research.google.com/notebooks/data_table.ipynb>data table notebook</a>'\n",
              "          + ' to learn more about interactive tables.';\n",
              "        element.innerHTML = '';\n",
              "        dataTable['output_type'] = 'display_data';\n",
              "        await google.colab.output.renderOutput(dataTable, element);\n",
              "        const docLink = document.createElement('div');\n",
              "        docLink.innerHTML = docLinkHtml;\n",
              "        element.appendChild(docLink);\n",
              "      }\n",
              "    </script>\n",
              "  </div>\n",
              "\n",
              "\n",
              "<div id=\"df-cde5acdb-66b4-4034-939a-187b6638f128\">\n",
              "  <button class=\"colab-df-quickchart\" onclick=\"quickchart('df-cde5acdb-66b4-4034-939a-187b6638f128')\"\n",
              "            title=\"Suggest charts\"\n",
              "            style=\"display:none;\">\n",
              "\n",
              "<svg xmlns=\"http://www.w3.org/2000/svg\" height=\"24px\"viewBox=\"0 0 24 24\"\n",
              "     width=\"24px\">\n",
              "    <g>\n",
              "        <path d=\"M19 3H5c-1.1 0-2 .9-2 2v14c0 1.1.9 2 2 2h14c1.1 0 2-.9 2-2V5c0-1.1-.9-2-2-2zM9 17H7v-7h2v7zm4 0h-2V7h2v10zm4 0h-2v-4h2v4z\"/>\n",
              "    </g>\n",
              "</svg>\n",
              "  </button>\n",
              "\n",
              "<style>\n",
              "  .colab-df-quickchart {\n",
              "      --bg-color: #E8F0FE;\n",
              "      --fill-color: #1967D2;\n",
              "      --hover-bg-color: #E2EBFA;\n",
              "      --hover-fill-color: #174EA6;\n",
              "      --disabled-fill-color: #AAA;\n",
              "      --disabled-bg-color: #DDD;\n",
              "  }\n",
              "\n",
              "  [theme=dark] .colab-df-quickchart {\n",
              "      --bg-color: #3B4455;\n",
              "      --fill-color: #D2E3FC;\n",
              "      --hover-bg-color: #434B5C;\n",
              "      --hover-fill-color: #FFFFFF;\n",
              "      --disabled-bg-color: #3B4455;\n",
              "      --disabled-fill-color: #666;\n",
              "  }\n",
              "\n",
              "  .colab-df-quickchart {\n",
              "    background-color: var(--bg-color);\n",
              "    border: none;\n",
              "    border-radius: 50%;\n",
              "    cursor: pointer;\n",
              "    display: none;\n",
              "    fill: var(--fill-color);\n",
              "    height: 32px;\n",
              "    padding: 0;\n",
              "    width: 32px;\n",
              "  }\n",
              "\n",
              "  .colab-df-quickchart:hover {\n",
              "    background-color: var(--hover-bg-color);\n",
              "    box-shadow: 0 1px 2px rgba(60, 64, 67, 0.3), 0 1px 3px 1px rgba(60, 64, 67, 0.15);\n",
              "    fill: var(--button-hover-fill-color);\n",
              "  }\n",
              "\n",
              "  .colab-df-quickchart-complete:disabled,\n",
              "  .colab-df-quickchart-complete:disabled:hover {\n",
              "    background-color: var(--disabled-bg-color);\n",
              "    fill: var(--disabled-fill-color);\n",
              "    box-shadow: none;\n",
              "  }\n",
              "\n",
              "  .colab-df-spinner {\n",
              "    border: 2px solid var(--fill-color);\n",
              "    border-color: transparent;\n",
              "    border-bottom-color: var(--fill-color);\n",
              "    animation:\n",
              "      spin 1s steps(1) infinite;\n",
              "  }\n",
              "\n",
              "  @keyframes spin {\n",
              "    0% {\n",
              "      border-color: transparent;\n",
              "      border-bottom-color: var(--fill-color);\n",
              "      border-left-color: var(--fill-color);\n",
              "    }\n",
              "    20% {\n",
              "      border-color: transparent;\n",
              "      border-left-color: var(--fill-color);\n",
              "      border-top-color: var(--fill-color);\n",
              "    }\n",
              "    30% {\n",
              "      border-color: transparent;\n",
              "      border-left-color: var(--fill-color);\n",
              "      border-top-color: var(--fill-color);\n",
              "      border-right-color: var(--fill-color);\n",
              "    }\n",
              "    40% {\n",
              "      border-color: transparent;\n",
              "      border-right-color: var(--fill-color);\n",
              "      border-top-color: var(--fill-color);\n",
              "    }\n",
              "    60% {\n",
              "      border-color: transparent;\n",
              "      border-right-color: var(--fill-color);\n",
              "    }\n",
              "    80% {\n",
              "      border-color: transparent;\n",
              "      border-right-color: var(--fill-color);\n",
              "      border-bottom-color: var(--fill-color);\n",
              "    }\n",
              "    90% {\n",
              "      border-color: transparent;\n",
              "      border-bottom-color: var(--fill-color);\n",
              "    }\n",
              "  }\n",
              "</style>\n",
              "\n",
              "  <script>\n",
              "    async function quickchart(key) {\n",
              "      const quickchartButtonEl =\n",
              "        document.querySelector('#' + key + ' button');\n",
              "      quickchartButtonEl.disabled = true;  // To prevent multiple clicks.\n",
              "      quickchartButtonEl.classList.add('colab-df-spinner');\n",
              "      try {\n",
              "        const charts = await google.colab.kernel.invokeFunction(\n",
              "            'suggestCharts', [key], {});\n",
              "      } catch (error) {\n",
              "        console.error('Error during call to suggestCharts:', error);\n",
              "      }\n",
              "      quickchartButtonEl.classList.remove('colab-df-spinner');\n",
              "      quickchartButtonEl.classList.add('colab-df-quickchart-complete');\n",
              "    }\n",
              "    (() => {\n",
              "      let quickchartButtonEl =\n",
              "        document.querySelector('#df-cde5acdb-66b4-4034-939a-187b6638f128 button');\n",
              "      quickchartButtonEl.style.display =\n",
              "        google.colab.kernel.accessAllowed ? 'block' : 'none';\n",
              "    })();\n",
              "  </script>\n",
              "</div>\n",
              "    </div>\n",
              "  </div>\n"
            ],
            "application/vnd.google.colaboratory.intrinsic+json": {
              "type": "dataframe",
              "variable_name": "reactor_data",
              "summary": "{\n  \"name\": \"reactor_data\",\n  \"rows\": 2484,\n  \"fields\": [\n    {\n      \"column\": \"C3\",\n      \"properties\": {\n        \"dtype\": \"number\",\n        \"std\": 1706.1800933501245,\n        \"min\": 16106.025,\n        \"max\": 30083.688,\n        \"num_unique_values\": 2483,\n        \"samples\": [\n          25867.582,\n          24878.0,\n          26839.094\n        ],\n        \"semantic_type\": \"\",\n        \"description\": \"\"\n      }\n    },\n    {\n      \"column\": \"H2R\",\n      \"properties\": {\n        \"dtype\": \"number\",\n        \"std\": 0.07215500291264604,\n        \"min\": 0.0,\n        \"max\": 0.98000002,\n        \"num_unique_values\": 201,\n        \"samples\": [\n          0.13500001,\n          0.19400001,\n          0.155\n        ],\n        \"semantic_type\": \"\",\n        \"description\": \"\"\n      }\n    },\n    {\n      \"column\": \"Pressure\",\n      \"properties\": {\n        \"dtype\": \"number\",\n        \"std\": 0.423345285309177,\n        \"min\": 26.946344,\n        \"max\": 32.674332,\n        \"num_unique_values\": 2479,\n        \"samples\": [\n          31.096897,\n          30.40494,\n          30.62208\n        ],\n        \"semantic_type\": \"\",\n        \"description\": \"\"\n      }\n    },\n    {\n      \"column\": \"Level\",\n      \"properties\": {\n        \"dtype\": \"number\",\n        \"std\": 0.9196001695459615,\n        \"min\": 74.575958,\n        \"max\": 83.841675,\n        \"num_unique_values\": 2477,\n        \"samples\": [\n          77.189957,\n          78.50882,\n          78.312859\n        ],\n        \"semantic_type\": \"\",\n        \"description\": \"\"\n      }\n    },\n    {\n      \"column\": \"C2\",\n      \"properties\": {\n        \"dtype\": \"number\",\n        \"std\": 11331.86895987663,\n        \"min\": 9610.4648,\n        \"max\": 106073.61,\n        \"num_unique_values\": 2484,\n        \"samples\": [\n          50617.035,\n          44189.703,\n          34291.262\n        ],\n        \"semantic_type\": \"\",\n        \"description\": \"\"\n      }\n    },\n    {\n      \"column\": \"Cat\",\n      \"properties\": {\n        \"dtype\": \"number\",\n        \"std\": 0.04188489413604331,\n        \"min\": 0.022161778,\n        \"max\": 0.67797938,\n        \"num_unique_values\": 2483,\n        \"samples\": [\n          0.178492815,\n          0.15211165,\n          0.278948935\n        ],\n        \"semantic_type\": \"\",\n        \"description\": \"\"\n      }\n    },\n    {\n      \"column\": \"Temp\",\n      \"properties\": {\n        \"dtype\": \"number\",\n        \"std\": 0.8235540733335889,\n        \"min\": 77.760117,\n        \"max\": 91.566544,\n        \"num_unique_values\": 2467,\n        \"samples\": [\n          79.806244,\n          79.725014,\n          80.747032\n        ],\n        \"semantic_type\": \"\",\n        \"description\": \"\"\n      }\n    },\n    {\n      \"column\": \"MFR\",\n      \"properties\": {\n        \"dtype\": \"number\",\n        \"std\": 5.076462611779428,\n        \"min\": 1.5,\n        \"max\": 38.0,\n        \"num_unique_values\": 173,\n        \"samples\": [\n          7.9,\n          9.7,\n          19.2\n        ],\n        \"semantic_type\": \"\",\n        \"description\": \"\"\n      }\n    }\n  ]\n}"
            }
          },
          "metadata": {},
          "execution_count": 12
        }
      ]
    },
    {
      "cell_type": "code",
      "source": [
        "reactor_data.shape"
      ],
      "metadata": {
        "colab": {
          "base_uri": "https://localhost:8080/"
        },
        "id": "BALh-rRKrTyb",
        "outputId": "c704d407-f202-4f63-a4a8-a59903f1ec44"
      },
      "execution_count": 13,
      "outputs": [
        {
          "output_type": "execute_result",
          "data": {
            "text/plain": [
              "(2484, 8)"
            ]
          },
          "metadata": {},
          "execution_count": 13
        }
      ]
    },
    {
      "cell_type": "code",
      "source": [
        "reactor_data.info()"
      ],
      "metadata": {
        "colab": {
          "base_uri": "https://localhost:8080/"
        },
        "id": "564nKn7Hr1po",
        "outputId": "3935b55a-7d1d-4ef6-9b07-ab088fb1582c"
      },
      "execution_count": 14,
      "outputs": [
        {
          "output_type": "stream",
          "name": "stdout",
          "text": [
            "<class 'pandas.core.frame.DataFrame'>\n",
            "Int64Index: 2484 entries, 0 to 2559\n",
            "Data columns (total 8 columns):\n",
            " #   Column    Non-Null Count  Dtype  \n",
            "---  ------    --------------  -----  \n",
            " 0   C3        2484 non-null   float64\n",
            " 1   H2R       2484 non-null   float64\n",
            " 2   Pressure  2484 non-null   float64\n",
            " 3   Level     2484 non-null   float64\n",
            " 4   C2        2484 non-null   float64\n",
            " 5   Cat       2484 non-null   float64\n",
            " 6   Temp      2484 non-null   float64\n",
            " 7   MFR       2484 non-null   float64\n",
            "dtypes: float64(8)\n",
            "memory usage: 174.7 KB\n"
          ]
        }
      ]
    },
    {
      "cell_type": "code",
      "source": [
        "np.corrcoef(reactor_data['C3'],reactor_data['H2R'])"
      ],
      "metadata": {
        "colab": {
          "base_uri": "https://localhost:8080/"
        },
        "id": "I-M1AsAhvUXI",
        "outputId": "a2741063-ddea-427a-d29f-bfb4b1107048"
      },
      "execution_count": 15,
      "outputs": [
        {
          "output_type": "execute_result",
          "data": {
            "text/plain": [
              "array([[ 1.        , -0.03583256],\n",
              "       [-0.03583256,  1.        ]])"
            ]
          },
          "metadata": {},
          "execution_count": 15
        }
      ]
    },
    {
      "cell_type": "code",
      "source": [
        "for col1 in reactor_data:\n",
        "  for col2 in reactor_data:\n",
        "    print(col1, col2)\n",
        "    print(np.corrcoef(reactor_data_w_time[col1],reactor_data_w_time[col2]))"
      ],
      "metadata": {
        "colab": {
          "base_uri": "https://localhost:8080/"
        },
        "id": "8B6KcdBEwjJI",
        "outputId": "9379eef4-c8b1-4ef3-e684-48daff866ddf"
      },
      "execution_count": 16,
      "outputs": [
        {
          "output_type": "stream",
          "name": "stdout",
          "text": [
            "C3 C3\n",
            "[[1. 1.]\n",
            " [1. 1.]]\n",
            "C3 H2R\n",
            "[[ 1.         -0.03583256]\n",
            " [-0.03583256  1.        ]]\n",
            "C3 Pressure\n",
            "[[ 1.         -0.24638226]\n",
            " [-0.24638226  1.        ]]\n",
            "C3 Level\n",
            "[[1.         0.20758953]\n",
            " [0.20758953 1.        ]]\n",
            "C3 C2\n",
            "[[1.         0.38742925]\n",
            " [0.38742925 1.        ]]\n",
            "C3 Cat\n",
            "[[1.        0.2799678]\n",
            " [0.2799678 1.       ]]\n",
            "C3 Temp\n",
            "[[ 1.         -0.15759101]\n",
            " [-0.15759101  1.        ]]\n",
            "C3 MFR\n",
            "[[ 1.         -0.24798446]\n",
            " [-0.24798446  1.        ]]\n",
            "H2R C3\n",
            "[[ 1.         -0.03583256]\n",
            " [-0.03583256  1.        ]]\n",
            "H2R H2R\n",
            "[[1. 1.]\n",
            " [1. 1.]]\n",
            "H2R Pressure\n",
            "[[1.         0.22157601]\n",
            " [0.22157601 1.        ]]\n",
            "H2R Level\n",
            "[[1.        0.1044359]\n",
            " [0.1044359 1.       ]]\n",
            "H2R C2\n",
            "[[1.         0.37574455]\n",
            " [0.37574455 1.        ]]\n",
            "H2R Cat\n",
            "[[1.         0.22691946]\n",
            " [0.22691946 1.        ]]\n",
            "H2R Temp\n",
            "[[1.         0.05296717]\n",
            " [0.05296717 1.        ]]\n",
            "H2R MFR\n",
            "[[1.         0.42643292]\n",
            " [0.42643292 1.        ]]\n",
            "Pressure C3\n",
            "[[ 1.         -0.24638226]\n",
            " [-0.24638226  1.        ]]\n",
            "Pressure H2R\n",
            "[[1.         0.22157601]\n",
            " [0.22157601 1.        ]]\n",
            "Pressure Pressure\n",
            "[[1. 1.]\n",
            " [1. 1.]]\n",
            "Pressure Level\n",
            "[[1.        0.0442935]\n",
            " [0.0442935 1.       ]]\n",
            "Pressure C2\n",
            "[[1.         0.06454737]\n",
            " [0.06454737 1.        ]]\n",
            "Pressure Cat\n",
            "[[ 1.         -0.15237227]\n",
            " [-0.15237227  1.        ]]\n",
            "Pressure Temp\n",
            "[[ 1.         -0.03628631]\n",
            " [-0.03628631  1.        ]]\n",
            "Pressure MFR\n",
            "[[1.         0.43883744]\n",
            " [0.43883744 1.        ]]\n",
            "Level C3\n",
            "[[1.         0.20758953]\n",
            " [0.20758953 1.        ]]\n",
            "Level H2R\n",
            "[[1.        0.1044359]\n",
            " [0.1044359 1.       ]]\n",
            "Level Pressure\n",
            "[[1.        0.0442935]\n",
            " [0.0442935 1.       ]]\n",
            "Level Level\n",
            "[[1. 1.]\n",
            " [1. 1.]]\n",
            "Level C2\n",
            "[[1.         0.28998605]\n",
            " [0.28998605 1.        ]]\n",
            "Level Cat\n",
            "[[1.00000000e+00 1.57076293e-04]\n",
            " [1.57076293e-04 1.00000000e+00]]\n",
            "Level Temp\n",
            "[[ 1.         -0.08468797]\n",
            " [-0.08468797  1.        ]]\n",
            "Level MFR\n",
            "[[ 1.         -0.00645239]\n",
            " [-0.00645239  1.        ]]\n",
            "C2 C3\n",
            "[[1.         0.38742925]\n",
            " [0.38742925 1.        ]]\n",
            "C2 H2R\n",
            "[[1.         0.37574455]\n",
            " [0.37574455 1.        ]]\n",
            "C2 Pressure\n",
            "[[1.         0.06454737]\n",
            " [0.06454737 1.        ]]\n",
            "C2 Level\n",
            "[[1.         0.28998605]\n",
            " [0.28998605 1.        ]]\n",
            "C2 C2\n",
            "[[1. 1.]\n",
            " [1. 1.]]\n",
            "C2 Cat\n",
            "[[1.         0.24610574]\n",
            " [0.24610574 1.        ]]\n",
            "C2 Temp\n",
            "[[1.         0.11608971]\n",
            " [0.11608971 1.        ]]\n",
            "C2 MFR\n",
            "[[1.         0.23321857]\n",
            " [0.23321857 1.        ]]\n",
            "Cat C3\n",
            "[[1.        0.2799678]\n",
            " [0.2799678 1.       ]]\n",
            "Cat H2R\n",
            "[[1.         0.22691946]\n",
            " [0.22691946 1.        ]]\n",
            "Cat Pressure\n",
            "[[ 1.         -0.15237227]\n",
            " [-0.15237227  1.        ]]\n",
            "Cat Level\n",
            "[[1.00000000e+00 1.57076293e-04]\n",
            " [1.57076293e-04 1.00000000e+00]]\n",
            "Cat C2\n",
            "[[1.         0.24610574]\n",
            " [0.24610574 1.        ]]\n",
            "Cat Cat\n",
            "[[1. 1.]\n",
            " [1. 1.]]\n",
            "Cat Temp\n",
            "[[1.         0.10321364]\n",
            " [0.10321364 1.        ]]\n",
            "Cat MFR\n",
            "[[ 1.         -0.20901301]\n",
            " [-0.20901301  1.        ]]\n",
            "Temp C3\n",
            "[[ 1.         -0.15759101]\n",
            " [-0.15759101  1.        ]]\n",
            "Temp H2R\n",
            "[[1.         0.05296717]\n",
            " [0.05296717 1.        ]]\n",
            "Temp Pressure\n",
            "[[ 1.         -0.03628631]\n",
            " [-0.03628631  1.        ]]\n",
            "Temp Level\n",
            "[[ 1.         -0.08468797]\n",
            " [-0.08468797  1.        ]]\n",
            "Temp C2\n",
            "[[1.         0.11608971]\n",
            " [0.11608971 1.        ]]\n",
            "Temp Cat\n",
            "[[1.         0.10321364]\n",
            " [0.10321364 1.        ]]\n",
            "Temp Temp\n",
            "[[1. 1.]\n",
            " [1. 1.]]\n",
            "Temp MFR\n",
            "[[1.         0.12562809]\n",
            " [0.12562809 1.        ]]\n",
            "MFR C3\n",
            "[[ 1.         -0.24798446]\n",
            " [-0.24798446  1.        ]]\n",
            "MFR H2R\n",
            "[[1.         0.42643292]\n",
            " [0.42643292 1.        ]]\n",
            "MFR Pressure\n",
            "[[1.         0.43883744]\n",
            " [0.43883744 1.        ]]\n",
            "MFR Level\n",
            "[[ 1.         -0.00645239]\n",
            " [-0.00645239  1.        ]]\n",
            "MFR C2\n",
            "[[1.         0.23321857]\n",
            " [0.23321857 1.        ]]\n",
            "MFR Cat\n",
            "[[ 1.         -0.20901301]\n",
            " [-0.20901301  1.        ]]\n",
            "MFR Temp\n",
            "[[1.         0.12562809]\n",
            " [0.12562809 1.        ]]\n",
            "MFR MFR\n",
            "[[1. 1.]\n",
            " [1. 1.]]\n"
          ]
        }
      ]
    },
    {
      "cell_type": "code",
      "source": [
        "for col in reactor_data:\n",
        "  print(col)\n",
        "  print(np.median(reactor_data[col]))"
      ],
      "metadata": {
        "colab": {
          "base_uri": "https://localhost:8080/"
        },
        "id": "kp39zWXyyGmS",
        "outputId": "2fe2c90b-66fa-4c0d-8e0a-585824520eb2"
      },
      "execution_count": 17,
      "outputs": [
        {
          "output_type": "stream",
          "name": "stdout",
          "text": [
            "C3\n",
            "25364.311500000003\n",
            "H2R\n",
            "0.175\n",
            "Pressure\n",
            "30.622631\n",
            "Level\n",
            "77.4944765\n",
            "C2\n",
            "41550.5625\n",
            "Cat\n",
            "0.1329714105\n",
            "Temp\n",
            "80.0443075\n",
            "MFR\n",
            "4.3\n"
          ]
        }
      ]
    },
    {
      "cell_type": "code",
      "source": [
        "reactor_data_w_time['Time'] = pd.to_datetime(reactor_data_w_time['Time'])"
      ],
      "metadata": {
        "id": "IfUR6mgixXYD"
      },
      "execution_count": 18,
      "outputs": []
    },
    {
      "cell_type": "code",
      "source": [
        "reactor_data_w_time['Time'][0]"
      ],
      "metadata": {
        "colab": {
          "base_uri": "https://localhost:8080/"
        },
        "id": "w8eqZ9SN4INy",
        "outputId": "7e26437e-6c35-4d07-b0bf-26e212d72f92"
      },
      "execution_count": 19,
      "outputs": [
        {
          "output_type": "execute_result",
          "data": {
            "text/plain": [
              "Timestamp('2018-04-05 19:45:00')"
            ]
          },
          "metadata": {},
          "execution_count": 19
        }
      ]
    },
    {
      "cell_type": "code",
      "source": [
        "def _range(series):\n",
        "    return series.max() - series.min()\n",
        "range_value = reactor_data_w_time['Time'].agg([_range])\n",
        "range_value"
      ],
      "metadata": {
        "colab": {
          "base_uri": "https://localhost:8080/"
        },
        "id": "ftrvQi2Q4YpK",
        "outputId": "60d035ae-9ff3-4fef-cfd1-3a919eac3c74"
      },
      "execution_count": 20,
      "outputs": [
        {
          "output_type": "execute_result",
          "data": {
            "text/plain": [
              "_range   248 days 14:00:00\n",
              "Name: Time, dtype: timedelta64[ns]"
            ]
          },
          "metadata": {},
          "execution_count": 20
        }
      ]
    },
    {
      "cell_type": "code",
      "source": [
        "pd.to_datetime('04-05-18')"
      ],
      "metadata": {
        "colab": {
          "base_uri": "https://localhost:8080/"
        },
        "id": "BKVg5J-u58p7",
        "outputId": "edfcdccb-8be2-41a6-d5bb-8fae7f5fd859"
      },
      "execution_count": 21,
      "outputs": [
        {
          "output_type": "execute_result",
          "data": {
            "text/plain": [
              "Timestamp('2018-04-05 00:00:00')"
            ]
          },
          "metadata": {},
          "execution_count": 21
        }
      ]
    },
    {
      "cell_type": "markdown",
      "source": [],
      "metadata": {
        "id": "1b5F2ZCd-YZf"
      }
    },
    {
      "cell_type": "code",
      "source": [
        "first_month = reactor_data_w_time['Time'] <= pd.to_datetime('04-30-18 23:45:00')\n"
      ],
      "metadata": {
        "id": "EE8TreJo5JoP"
      },
      "execution_count": 22,
      "outputs": []
    },
    {
      "cell_type": "code",
      "source": [
        "reactor_first_month = reactor_data_w_time[first_month]\n",
        "np.median(reactor_first_month['MFR'])"
      ],
      "metadata": {
        "colab": {
          "base_uri": "https://localhost:8080/"
        },
        "id": "kzH4TfYt-hX1",
        "outputId": "35214373-7811-4935-fda3-5a7e39fc345a"
      },
      "execution_count": 23,
      "outputs": [
        {
          "output_type": "execute_result",
          "data": {
            "text/plain": [
              "4.2"
            ]
          },
          "metadata": {},
          "execution_count": 23
        }
      ]
    },
    {
      "cell_type": "code",
      "source": [
        "last_month =  reactor_data_w_time['Time'] <= pd.to_datetime('12-10-2018 09:45:00')"
      ],
      "metadata": {
        "id": "lfhM1jYZ-1mV"
      },
      "execution_count": 24,
      "outputs": []
    },
    {
      "cell_type": "code",
      "source": [
        "reactor_last_month = reactor_data_w_time[last_month]\n",
        "np.median(reactor_last_month['MFR'])"
      ],
      "metadata": {
        "colab": {
          "base_uri": "https://localhost:8080/"
        },
        "id": "h1-Jjfli_R33",
        "outputId": "b9d88e56-5c49-488d-f2ac-73157e9b99b8"
      },
      "execution_count": 25,
      "outputs": [
        {
          "output_type": "execute_result",
          "data": {
            "text/plain": [
              "4.3"
            ]
          },
          "metadata": {},
          "execution_count": 25
        }
      ]
    },
    {
      "cell_type": "code",
      "source": [
        "import matplotlib.pyplot as plt\n",
        "plt.scatter(reactor_data_w_time['Time'], reactor_data_w_time['MFR'])"
      ],
      "metadata": {
        "colab": {
          "base_uri": "https://localhost:8080/",
          "height": 448
        },
        "id": "AvOYA_Xt_YcV",
        "outputId": "a5fad2b5-eef7-4d8b-ab9c-f5eb56582d19"
      },
      "execution_count": 26,
      "outputs": [
        {
          "output_type": "execute_result",
          "data": {
            "text/plain": [
              "<matplotlib.collections.PathCollection at 0x7cbb1b3fe650>"
            ]
          },
          "metadata": {},
          "execution_count": 26
        },
        {
          "output_type": "display_data",
          "data": {
            "text/plain": [
              "<Figure size 640x480 with 1 Axes>"
            ],
            "image/png": "[encoded data removed]"
          },
          "metadata": {}
        }
      ]
    },
    {
      "cell_type": "code",
      "source": [
        "\n",
        "plt.scatter(reactor_data_w_time['Time'], reactor_data_w_time['Level'])"
      ],
      "metadata": {
        "colab": {
          "base_uri": "https://localhost:8080/",
          "height": 448
        },
        "id": "3B0h3L3v3j7M",
        "outputId": "efd88ee0-6dcf-428e-e1ce-f327683761ab"
      },
      "execution_count": 27,
      "outputs": [
        {
          "output_type": "execute_result",
          "data": {
            "text/plain": [
              "<matplotlib.collections.PathCollection at 0x7cbb1915dab0>"
            ]
          },
          "metadata": {},
          "execution_count": 27
        },
        {
          "output_type": "display_data",
          "data": {
            "text/plain": [
              "<Figure size 640x480 with 1 Axes>"
            ],
            "image/png": "[encoded data removed]"
          },
          "metadata": {}
        }
      ]
    },
    {
      "cell_type": "code",
      "source": [
        "\n",
        "plt.figure(figsize=(12,8))\n",
        "plt.subplot(2,4,+1)\n",
        "plt.title('H2R')\n",
        "plt.boxplot(reactor_data['H2R'])"
      ],
      "metadata": {
        "colab": {
          "base_uri": "https://localhost:8080/",
          "height": 508
        },
        "id": "VoGoeL6F69ui",
        "outputId": "b44262ee-c6d6-4f2a-8da1-1c012c14a24f"
      },
      "execution_count": 28,
      "outputs": [
        {
          "output_type": "execute_result",
          "data": {
            "text/plain": [
              "{'whiskers': [<matplotlib.lines.Line2D at 0x7cbb191f8b50>,\n",
              "  <matplotlib.lines.Line2D at 0x7cbb191f8df0>],\n",
              " 'caps': [<matplotlib.lines.Line2D at 0x7cbb191f9090>,\n",
              "  <matplotlib.lines.Line2D at 0x7cbb191f9330>],\n",
              " 'boxes': [<matplotlib.lines.Line2D at 0x7cbb191f88b0>],\n",
              " 'medians': [<matplotlib.lines.Line2D at 0x7cbb191f95d0>],\n",
              " 'fliers': [<matplotlib.lines.Line2D at 0x7cbb191f9870>],\n",
              " 'means': []}"
            ]
          },
          "metadata": {},
          "execution_count": 28
        },
        {
          "output_type": "display_data",
          "data": {
            "text/plain": [
              "<Figure size 1200x800 with 1 Axes>"
            ],
            "image/png": "[encoded data removed]"
          },
          "metadata": {}
        }
      ]
    },
    {
      "cell_type": "code",
      "source": [
        "# import seaborn as sns\n",
        "# sns.pairplot(reactor_data_w_time)"
      ],
      "metadata": {
        "id": "6OMbjgHE8MCY"
      },
      "execution_count": 29,
      "outputs": []
    },
    {
      "cell_type": "code",
      "source": [
        "print(len(reactor_data))\n",
        "reactor_data = reactor_data[reactor_data['H2R']<0.7]\n",
        "reactor_data = reactor_data[reactor_data['H2R']>0.01]\n",
        "reactor_data = reactor_data[reactor_data['C2']<100000]\n",
        "reactor_data = reactor_data[reactor_data['MFR']<30]\n",
        "reactor_data = reactor_data[reactor_data['Temp']<83]\n",
        "print(len(reactor_data))\n",
        "reactor_data.head()"
      ],
      "metadata": {
        "colab": {
          "base_uri": "https://localhost:8080/",
          "height": 242
        },
        "id": "Wthf7ONery28",
        "outputId": "514ebc6a-ad95-4c30-ca19-ff29fee0ea57"
      },
      "execution_count": 30,
      "outputs": [
        {
          "output_type": "stream",
          "name": "stdout",
          "text": [
            "2484\n",
            "2450\n"
          ]
        },
        {
          "output_type": "execute_result",
          "data": {
            "text/plain": [
              "          C3    H2R   Pressure      Level         C2       Cat       Temp  MFR\n",
              "0  24856.584  0.153  30.414835  79.657906  50850.578  0.163994  80.399605  3.4\n",
              "1  25537.250  0.153  30.527121  78.532608  42229.813  0.129739  78.861328  3.2\n",
              "2  25689.266  0.153  30.356180  78.842636  45335.852  0.150003  78.818115  3.2\n",
              "3  25098.754  0.153  30.894308  79.173500  43077.016  0.151543  79.022720  3.1\n",
              "4  24853.941  0.150  30.680647  78.677299  40404.387  0.122582  79.038483  3.3"
            ],
            "text/html": [
              "\n",
              "  <div id=\"df-4b54f89e-8f03-490c-ba12-e1df3dd20ddc\" class=\"colab-df-container\">\n",
              "    <div>\n",
              "<style scoped>\n",
              "    .dataframe tbody tr th:only-of-type {\n",
              "        vertical-align: middle;\n",
              "    }\n",
              "\n",
              "    .dataframe tbody tr th {\n",
              "        vertical-align: top;\n",
              "    }\n",
              "\n",
              "    .dataframe thead th {\n",
              "        text-align: right;\n",
              "    }\n",
              "</style>\n",
              "<table border=\"1\" class=\"dataframe\">\n",
              "  <thead>\n",
              "    <tr style=\"text-align: right;\">\n",
              "      <th></th>\n",
              "      <th>C3</th>\n",
              "      <th>H2R</th>\n",
              "      <th>Pressure</th>\n",
              "      <th>Level</th>\n",
              "      <th>C2</th>\n",
              "      <th>Cat</th>\n",
              "      <th>Temp</th>\n",
              "      <th>MFR</th>\n",
              "    </tr>\n",
              "  </thead>\n",
              "  <tbody>\n",
              "    <tr>\n",
              "      <th>0</th>\n",
              "      <td>24856.584</td>\n",
              "      <td>0.153</td>\n",
              "      <td>30.414835</td>\n",
              "      <td>79.657906</td>\n",
              "      <td>50850.578</td>\n",
              "      <td>0.163994</td>\n",
              "      <td>80.399605</td>\n",
              "      <td>3.4</td>\n",
              "    </tr>\n",
              "    <tr>\n",
              "      <th>1</th>\n",
              "      <td>25537.250</td>\n",
              "      <td>0.153</td>\n",
              "      <td>30.527121</td>\n",
              "      <td>78.532608</td>\n",
              "      <td>42229.813</td>\n",
              "      <td>0.129739</td>\n",
              "      <td>78.861328</td>\n",
              "      <td>3.2</td>\n",
              "    </tr>\n",
              "    <tr>\n",
              "      <th>2</th>\n",
              "      <td>25689.266</td>\n",
              "      <td>0.153</td>\n",
              "      <td>30.356180</td>\n",
              "      <td>78.842636</td>\n",
              "      <td>45335.852</td>\n",
              "      <td>0.150003</td>\n",
              "      <td>78.818115</td>\n",
              "      <td>3.2</td>\n",
              "    </tr>\n",
              "    <tr>\n",
              "      <th>3</th>\n",
              "      <td>25098.754</td>\n",
              "      <td>0.153</td>\n",
              "      <td>30.894308</td>\n",
              "      <td>79.173500</td>\n",
              "      <td>43077.016</td>\n",
              "      <td>0.151543</td>\n",
              "      <td>79.022720</td>\n",
              "      <td>3.1</td>\n",
              "    </tr>\n",
              "    <tr>\n",
              "      <th>4</th>\n",
              "      <td>24853.941</td>\n",
              "      <td>0.150</td>\n",
              "      <td>30.680647</td>\n",
              "      <td>78.677299</td>\n",
              "      <td>40404.387</td>\n",
              "      <td>0.122582</td>\n",
              "      <td>79.038483</td>\n",
              "      <td>3.3</td>\n",
              "    </tr>\n",
              "  </tbody>\n",
              "</table>\n",
              "</div>\n",
              "    <div class=\"colab-df-buttons\">\n",
              "\n",
              "  <div class=\"colab-df-container\">\n",
              "    <button class=\"colab-df-convert\" onclick=\"convertToInteractive('df-4b54f89e-8f03-490c-ba12-e1df3dd20ddc')\"\n",
              "            title=\"Convert this dataframe to an interactive table.\"\n",
              "            style=\"display:none;\">\n",
              "\n",
              "  <svg xmlns=\"http://www.w3.org/2000/svg\" height=\"24px\" viewBox=\"0 -960 960 960\">\n",
              "    <path d=\"M120-120v-720h720v720H120Zm60-500h600v-160H180v160Zm220 220h160v-160H400v160Zm0 220h160v-160H400v160ZM180-400h160v-160H180v160Zm440 0h160v-160H620v160ZM180-180h160v-160H180v160Zm440 0h160v-160H620v160Z\"/>\n",
              "  </svg>\n",
              "    </button>\n",
              "\n",
              "  <style>\n",
              "    .colab-df-container {\n",
              "      display:flex;\n",
              "      gap: 12px;\n",
              "    }\n",
              "\n",
              "    .colab-df-convert {\n",
              "      background-color: #E8F0FE;\n",
              "      border: none;\n",
              "      border-radius: 50%;\n",
              "      cursor: pointer;\n",
              "      display: none;\n",
              "      fill: #1967D2;\n",
              "      height: 32px;\n",
              "      padding: 0 0 0 0;\n",
              "      width: 32px;\n",
              "    }\n",
              "\n",
              "    .colab-df-convert:hover {\n",
              "      background-color: #E2EBFA;\n",
              "      box-shadow: 0px 1px 2px rgba(60, 64, 67, 0.3), 0px 1px 3px 1px rgba(60, 64, 67, 0.15);\n",
              "      fill: #174EA6;\n",
              "    }\n",
              "\n",
              "    .colab-df-buttons div {\n",
              "      margin-bottom: 4px;\n",
              "    }\n",
              "\n",
              "    [theme=dark] .colab-df-convert {\n",
              "      background-color: #3B4455;\n",
              "      fill: #D2E3FC;\n",
              "    }\n",
              "\n",
              "    [theme=dark] .colab-df-convert:hover {\n",
              "      background-color: #434B5C;\n",
              "      box-shadow: 0px 1px 3px 1px rgba(0, 0, 0, 0.15);\n",
              "      filter: drop-shadow(0px 1px 2px rgba(0, 0, 0, 0.3));\n",
              "      fill: #FFFFFF;\n",
              "    }\n",
              "  </style>\n",
              "\n",
              "    <script>\n",
              "      const buttonEl =\n",
              "        document.querySelector('#df-4b54f89e-8f03-490c-ba12-e1df3dd20ddc button.colab-df-convert');\n",
              "      buttonEl.style.display =\n",
              "        google.colab.kernel.accessAllowed ? 'block' : 'none';\n",
              "\n",
              "      async function convertToInteractive(key) {\n",
              "        const element = document.querySelector('#df-4b54f89e-8f03-490c-ba12-e1df3dd20ddc');\n",
              "        const dataTable =\n",
              "          await google.colab.kernel.invokeFunction('convertToInteractive',\n",
              "                                                    [key], {});\n",
              "        if (!dataTable) return;\n",
              "\n",
              "        const docLinkHtml = 'Like what you see? Visit the ' +\n",
              "          '<a target=\"_blank\" href=https://colab.research.google.com/notebooks/data_table.ipynb>data table notebook</a>'\n",
              "          + ' to learn more about interactive tables.';\n",
              "        element.innerHTML = '';\n",
              "        dataTable['output_type'] = 'display_data';\n",
              "        await google.colab.output.renderOutput(dataTable, element);\n",
              "        const docLink = document.createElement('div');\n",
              "        docLink.innerHTML = docLinkHtml;\n",
              "        element.appendChild(docLink);\n",
              "      }\n",
              "    </script>\n",
              "  </div>\n",
              "\n",
              "\n",
              "<div id=\"df-fbaf6e56-9441-4bc7-9e58-81aca09a6276\">\n",
              "  <button class=\"colab-df-quickchart\" onclick=\"quickchart('df-fbaf6e56-9441-4bc7-9e58-81aca09a6276')\"\n",
              "            title=\"Suggest charts\"\n",
              "            style=\"display:none;\">\n",
              "\n",
              "<svg xmlns=\"http://www.w3.org/2000/svg\" height=\"24px\"viewBox=\"0 0 24 24\"\n",
              "     width=\"24px\">\n",
              "    <g>\n",
              "        <path d=\"M19 3H5c-1.1 0-2 .9-2 2v14c0 1.1.9 2 2 2h14c1.1 0 2-.9 2-2V5c0-1.1-.9-2-2-2zM9 17H7v-7h2v7zm4 0h-2V7h2v10zm4 0h-2v-4h2v4z\"/>\n",
              "    </g>\n",
              "</svg>\n",
              "  </button>\n",
              "\n",
              "<style>\n",
              "  .colab-df-quickchart {\n",
              "      --bg-color: #E8F0FE;\n",
              "      --fill-color: #1967D2;\n",
              "      --hover-bg-color: #E2EBFA;\n",
              "      --hover-fill-color: #174EA6;\n",
              "      --disabled-fill-color: #AAA;\n",
              "      --disabled-bg-color: #DDD;\n",
              "  }\n",
              "\n",
              "  [theme=dark] .colab-df-quickchart {\n",
              "      --bg-color: #3B4455;\n",
              "      --fill-color: #D2E3FC;\n",
              "      --hover-bg-color: #434B5C;\n",
              "      --hover-fill-color: #FFFFFF;\n",
              "      --disabled-bg-color: #3B4455;\n",
              "      --disabled-fill-color: #666;\n",
              "  }\n",
              "\n",
              "  .colab-df-quickchart {\n",
              "    background-color: var(--bg-color);\n",
              "    border: none;\n",
              "    border-radius: 50%;\n",
              "    cursor: pointer;\n",
              "    display: none;\n",
              "    fill: var(--fill-color);\n",
              "    height: 32px;\n",
              "    padding: 0;\n",
              "    width: 32px;\n",
              "  }\n",
              "\n",
              "  .colab-df-quickchart:hover {\n",
              "    background-color: var(--hover-bg-color);\n",
              "    box-shadow: 0 1px 2px rgba(60, 64, 67, 0.3), 0 1px 3px 1px rgba(60, 64, 67, 0.15);\n",
              "    fill: var(--button-hover-fill-color);\n",
              "  }\n",
              "\n",
              "  .colab-df-quickchart-complete:disabled,\n",
              "  .colab-df-quickchart-complete:disabled:hover {\n",
              "    background-color: var(--disabled-bg-color);\n",
              "    fill: var(--disabled-fill-color);\n",
              "    box-shadow: none;\n",
              "  }\n",
              "\n",
              "  .colab-df-spinner {\n",
              "    border: 2px solid var(--fill-color);\n",
              "    border-color: transparent;\n",
              "    border-bottom-color: var(--fill-color);\n",
              "    animation:\n",
              "      spin 1s steps(1) infinite;\n",
              "  }\n",
              "\n",
              "  @keyframes spin {\n",
              "    0% {\n",
              "      border-color: transparent;\n",
              "      border-bottom-color: var(--fill-color);\n",
              "      border-left-color: var(--fill-color);\n",
              "    }\n",
              "    20% {\n",
              "      border-color: transparent;\n",
              "      border-left-color: var(--fill-color);\n",
              "      border-top-color: var(--fill-color);\n",
              "    }\n",
              "    30% {\n",
              "      border-color: transparent;\n",
              "      border-left-color: var(--fill-color);\n",
              "      border-top-color: var(--fill-color);\n",
              "      border-right-color: var(--fill-color);\n",
              "    }\n",
              "    40% {\n",
              "      border-color: transparent;\n",
              "      border-right-color: var(--fill-color);\n",
              "      border-top-color: var(--fill-color);\n",
              "    }\n",
              "    60% {\n",
              "      border-color: transparent;\n",
              "      border-right-color: var(--fill-color);\n",
              "    }\n",
              "    80% {\n",
              "      border-color: transparent;\n",
              "      border-right-color: var(--fill-color);\n",
              "      border-bottom-color: var(--fill-color);\n",
              "    }\n",
              "    90% {\n",
              "      border-color: transparent;\n",
              "      border-bottom-color: var(--fill-color);\n",
              "    }\n",
              "  }\n",
              "</style>\n",
              "\n",
              "  <script>\n",
              "    async function quickchart(key) {\n",
              "      const quickchartButtonEl =\n",
              "        document.querySelector('#' + key + ' button');\n",
              "      quickchartButtonEl.disabled = true;  // To prevent multiple clicks.\n",
              "      quickchartButtonEl.classList.add('colab-df-spinner');\n",
              "      try {\n",
              "        const charts = await google.colab.kernel.invokeFunction(\n",
              "            'suggestCharts', [key], {});\n",
              "      } catch (error) {\n",
              "        console.error('Error during call to suggestCharts:', error);\n",
              "      }\n",
              "      quickchartButtonEl.classList.remove('colab-df-spinner');\n",
              "      quickchartButtonEl.classList.add('colab-df-quickchart-complete');\n",
              "    }\n",
              "    (() => {\n",
              "      let quickchartButtonEl =\n",
              "        document.querySelector('#df-fbaf6e56-9441-4bc7-9e58-81aca09a6276 button');\n",
              "      quickchartButtonEl.style.display =\n",
              "        google.colab.kernel.accessAllowed ? 'block' : 'none';\n",
              "    })();\n",
              "  </script>\n",
              "</div>\n",
              "    </div>\n",
              "  </div>\n"
            ],
            "application/vnd.google.colaboratory.intrinsic+json": {
              "type": "dataframe",
              "variable_name": "reactor_data",
              "summary": "{\n  \"name\": \"reactor_data\",\n  \"rows\": 2450,\n  \"fields\": [\n    {\n      \"column\": \"C3\",\n      \"properties\": {\n        \"dtype\": \"number\",\n        \"std\": 1689.303028590172,\n        \"min\": 16106.025,\n        \"max\": 30083.688,\n        \"num_unique_values\": 2449,\n        \"samples\": [\n          24138.941,\n          25166.219,\n          27023.258\n        ],\n        \"semantic_type\": \"\",\n        \"description\": \"\"\n      }\n    },\n    {\n      \"column\": \"H2R\",\n      \"properties\": {\n        \"dtype\": \"number\",\n        \"std\": 0.06964304687562,\n        \"min\": 0.092,\n        \"max\": 0.57000002,\n        \"num_unique_values\": 199,\n        \"samples\": [\n          0.22400001,\n          0.19400001,\n          0.24699999\n        ],\n        \"semantic_type\": \"\",\n        \"description\": \"\"\n      }\n    },\n    {\n      \"column\": \"Pressure\",\n      \"properties\": {\n        \"dtype\": \"number\",\n        \"std\": 0.4144465242782467,\n        \"min\": 26.946344,\n        \"max\": 32.674332,\n        \"num_unique_values\": 2445,\n        \"samples\": [\n          30.296303,\n          30.498739,\n          30.709738\n        ],\n        \"semantic_type\": \"\",\n        \"description\": \"\"\n      }\n    },\n    {\n      \"column\": \"Level\",\n      \"properties\": {\n        \"dtype\": \"number\",\n        \"std\": 0.9185308974088421,\n        \"min\": 74.575958,\n        \"max\": 83.841675,\n        \"num_unique_values\": 2443,\n        \"samples\": [\n          77.219017,\n          78.805649,\n          78.26519\n        ],\n        \"semantic_type\": \"\",\n        \"description\": \"\"\n      }\n    },\n    {\n      \"column\": \"C2\",\n      \"properties\": {\n        \"dtype\": \"number\",\n        \"std\": 11269.209908251138,\n        \"min\": 9610.4648,\n        \"max\": 84018.063,\n        \"num_unique_values\": 2450,\n        \"samples\": [\n          42296.707,\n          50478.473,\n          37079.676\n        ],\n        \"semantic_type\": \"\",\n        \"description\": \"\"\n      }\n    },\n    {\n      \"column\": \"Cat\",\n      \"properties\": {\n        \"dtype\": \"number\",\n        \"std\": 0.04154148686988755,\n        \"min\": 0.022161778,\n        \"max\": 0.67797938,\n        \"num_unique_values\": 2449,\n        \"samples\": [\n          0.150628264,\n          0.12372783,\n          0.078435923\n        ],\n        \"semantic_type\": \"\",\n        \"description\": \"\"\n      }\n    },\n    {\n      \"column\": \"Temp\",\n      \"properties\": {\n        \"dtype\": \"number\",\n        \"std\": 0.7225377167267267,\n        \"min\": 77.760117,\n        \"max\": 82.993454,\n        \"num_unique_values\": 2433,\n        \"samples\": [\n          79.069885,\n          79.669693,\n          79.803169\n        ],\n        \"semantic_type\": \"\",\n        \"description\": \"\"\n      }\n    },\n    {\n      \"column\": \"MFR\",\n      \"properties\": {\n        \"dtype\": \"number\",\n        \"std\": 4.925619519810297,\n        \"min\": 1.5,\n        \"max\": 26.0,\n        \"num_unique_values\": 169,\n        \"samples\": [\n          22.5,\n          13.2,\n          5.8\n        ],\n        \"semantic_type\": \"\",\n        \"description\": \"\"\n      }\n    }\n  ]\n}"
            }
          },
          "metadata": {},
          "execution_count": 30
        }
      ]
    },
    {
      "cell_type": "code",
      "source": [
        "reactor_data['lnMFR'] = np.log(reactor_data['MFR'].values)"
      ],
      "metadata": {
        "id": "Pse2JcY41dkw"
      },
      "execution_count": 31,
      "outputs": []
    },
    {
      "cell_type": "code",
      "execution_count": 32,
      "metadata": {
        "ExecuteTime": {
          "end_time": "2021-01-22T19:07:43.156052Z",
          "start_time": "2021-01-22T19:07:40.498430Z"
        },
        "id": "QOhjFix3rHl4",
        "outputId": "571ed9e1-5d44-4b9f-f1d9-8caebd85151a",
        "colab": {
          "base_uri": "https://localhost:8080/",
          "height": 203
        }
      },
      "outputs": [
        {
          "output_type": "execute_result",
          "data": {
            "text/plain": [
              "pandas.core.frame.DataFrame"
            ],
            "text/html": [
              "<div style=\"max-width:800px; border: 1px solid var(--colab-border-color);\"><style>\n",
              "      pre.function-repr-contents {\n",
              "        overflow-x: auto;\n",
              "        padding: 8px 12px;\n",
              "        max-height: 500px;\n",
              "      }\n",
              "\n",
              "      pre.function-repr-contents.function-repr-contents-collapsed {\n",
              "        cursor: pointer;\n",
              "        max-height: 100px;\n",
              "      }\n",
              "    </style>\n",
              "    <pre style=\"white-space: initial; background:\n",
              "         var(--colab-secondary-surface-color); padding: 8px 12px;\n",
              "         border-bottom: 1px solid var(--colab-border-color);\"><b>pandas.core.frame.DataFrame</b><br/>def __init__(data=None, index: Axes | None=None, columns: Axes | None=None, dtype: Dtype | None=None, copy: bool | None=None) -&gt; None</pre><pre class=\"function-repr-contents function-repr-contents-collapsed\" style=\"\"><a class=\"filepath\" style=\"display:none\" href=\"#\">/usr/local/lib/python3.10/dist-packages/pandas/core/frame.py</a>Two-dimensional, size-mutable, potentially heterogeneous tabular data.\n",
              "\n",
              "Data structure also contains labeled axes (rows and columns).\n",
              "Arithmetic operations align on both row and column labels. Can be\n",
              "thought of as a dict-like container for Series objects. The primary\n",
              "pandas data structure.\n",
              "\n",
              "Parameters\n",
              "----------\n",
              "data : ndarray (structured or homogeneous), Iterable, dict, or DataFrame\n",
              "    Dict can contain Series, arrays, constants, dataclass or list-like objects. If\n",
              "    data is a dict, column order follows insertion-order. If a dict contains Series\n",
              "    which have an index defined, it is aligned by its index.\n",
              "\n",
              "    .. versionchanged:: 0.25.0\n",
              "       If data is a list of dicts, column order follows insertion-order.\n",
              "\n",
              "index : Index or array-like\n",
              "    Index to use for resulting frame. Will default to RangeIndex if\n",
              "    no indexing information part of input data and no index provided.\n",
              "columns : Index or array-like\n",
              "    Column labels to use for resulting frame when data does not have them,\n",
              "    defaulting to RangeIndex(0, 1, 2, ..., n). If data contains column labels,\n",
              "    will perform column selection instead.\n",
              "dtype : dtype, default None\n",
              "    Data type to force. Only a single dtype is allowed. If None, infer.\n",
              "copy : bool or None, default None\n",
              "    Copy data from inputs.\n",
              "    For dict data, the default of None behaves like ``copy=True``.  For DataFrame\n",
              "    or 2d ndarray input, the default of None behaves like ``copy=False``.\n",
              "    If data is a dict containing one or more Series (possibly of different dtypes),\n",
              "    ``copy=False`` will ensure that these inputs are not copied.\n",
              "\n",
              "    .. versionchanged:: 1.3.0\n",
              "\n",
              "See Also\n",
              "--------\n",
              "DataFrame.from_records : Constructor from tuples, also record arrays.\n",
              "DataFrame.from_dict : From dicts of Series, arrays, or dicts.\n",
              "read_csv : Read a comma-separated values (csv) file into DataFrame.\n",
              "read_table : Read general delimited file into DataFrame.\n",
              "read_clipboard : Read text from clipboard into DataFrame.\n",
              "\n",
              "Notes\n",
              "-----\n",
              "Please reference the :ref:`User Guide &lt;basics.dataframe&gt;` for more information.\n",
              "\n",
              "Examples\n",
              "--------\n",
              "Constructing DataFrame from a dictionary.\n",
              "\n",
              "&gt;&gt;&gt; d = {&#x27;col1&#x27;: [1, 2], &#x27;col2&#x27;: [3, 4]}\n",
              "&gt;&gt;&gt; df = pd.DataFrame(data=d)\n",
              "&gt;&gt;&gt; df\n",
              "   col1  col2\n",
              "0     1     3\n",
              "1     2     4\n",
              "\n",
              "Notice that the inferred dtype is int64.\n",
              "\n",
              "&gt;&gt;&gt; df.dtypes\n",
              "col1    int64\n",
              "col2    int64\n",
              "dtype: object\n",
              "\n",
              "To enforce a single dtype:\n",
              "\n",
              "&gt;&gt;&gt; df = pd.DataFrame(data=d, dtype=np.int8)\n",
              "&gt;&gt;&gt; df.dtypes\n",
              "col1    int8\n",
              "col2    int8\n",
              "dtype: object\n",
              "\n",
              "Constructing DataFrame from a dictionary including Series:\n",
              "\n",
              "&gt;&gt;&gt; d = {&#x27;col1&#x27;: [0, 1, 2, 3], &#x27;col2&#x27;: pd.Series([2, 3], index=[2, 3])}\n",
              "&gt;&gt;&gt; pd.DataFrame(data=d, index=[0, 1, 2, 3])\n",
              "   col1  col2\n",
              "0     0   NaN\n",
              "1     1   NaN\n",
              "2     2   2.0\n",
              "3     3   3.0\n",
              "\n",
              "Constructing DataFrame from numpy ndarray:\n",
              "\n",
              "&gt;&gt;&gt; df2 = pd.DataFrame(np.array([[1, 2, 3], [4, 5, 6], [7, 8, 9]]),\n",
              "...                    columns=[&#x27;a&#x27;, &#x27;b&#x27;, &#x27;c&#x27;])\n",
              "&gt;&gt;&gt; df2\n",
              "   a  b  c\n",
              "0  1  2  3\n",
              "1  4  5  6\n",
              "2  7  8  9\n",
              "\n",
              "Constructing DataFrame from a numpy ndarray that has labeled columns:\n",
              "\n",
              "&gt;&gt;&gt; data = np.array([(1, 2, 3), (4, 5, 6), (7, 8, 9)],\n",
              "...                 dtype=[(&quot;a&quot;, &quot;i4&quot;), (&quot;b&quot;, &quot;i4&quot;), (&quot;c&quot;, &quot;i4&quot;)])\n",
              "&gt;&gt;&gt; df3 = pd.DataFrame(data, columns=[&#x27;c&#x27;, &#x27;a&#x27;])\n",
              "...\n",
              "&gt;&gt;&gt; df3\n",
              "   c  a\n",
              "0  3  1\n",
              "1  6  4\n",
              "2  9  7\n",
              "\n",
              "Constructing DataFrame from dataclass:\n",
              "\n",
              "&gt;&gt;&gt; from dataclasses import make_dataclass\n",
              "&gt;&gt;&gt; Point = make_dataclass(&quot;Point&quot;, [(&quot;x&quot;, int), (&quot;y&quot;, int)])\n",
              "&gt;&gt;&gt; pd.DataFrame([Point(0, 0), Point(0, 3), Point(2, 3)])\n",
              "   x  y\n",
              "0  0  0\n",
              "1  0  3\n",
              "2  2  3</pre>\n",
              "      <script>\n",
              "      if (google.colab.kernel.accessAllowed && google.colab.files && google.colab.files.view) {\n",
              "        for (const element of document.querySelectorAll('.filepath')) {\n",
              "          element.style.display = 'block'\n",
              "          element.onclick = (event) => {\n",
              "            event.preventDefault();\n",
              "            event.stopPropagation();\n",
              "            google.colab.files.view(element.textContent, 475);\n",
              "          };\n",
              "        }\n",
              "      }\n",
              "      for (const element of document.querySelectorAll('.function-repr-contents')) {\n",
              "        element.onclick = (event) => {\n",
              "          event.preventDefault();\n",
              "          event.stopPropagation();\n",
              "          element.classList.toggle('function-repr-contents-collapsed');\n",
              "        };\n",
              "      }\n",
              "      </script>\n",
              "      </div>"
            ]
          },
          "metadata": {},
          "execution_count": 32
        }
      ],
      "source": [
        "from sklearn.preprocessing import StandardScaler\n",
        "s = StandardScaler()\n",
        "data = s.fit_transform(reactor_data)\n",
        "type(reactor_data)"
      ]
    },
    {
      "cell_type": "markdown",
      "metadata": {
        "id": "u27-3Zq_rHl5"
      },
      "source": [
        "The value `ds` is returned as a `numpy` array so we need to convert it back to a `pandas` `DataFrame`.\n",
        "\n",
        "```python\n",
        "ds = pd.DataFrame(ds,columns=data.columns)\n",
        "```\n",
        "\n",
        "Re-use the column names from `data`."
      ]
    },
    {
      "cell_type": "code",
      "execution_count": 33,
      "metadata": {
        "ExecuteTime": {
          "end_time": "2021-01-22T19:07:43.188051Z",
          "start_time": "2021-01-22T19:07:43.160051Z"
        },
        "id": "GT_6V585rHl5",
        "outputId": "f8c291b3-4d0d-4a4d-da1f-4cf5043ee054",
        "colab": {
          "base_uri": "https://localhost:8080/",
          "height": 206
        }
      },
      "outputs": [
        {
          "output_type": "execute_result",
          "data": {
            "text/plain": [
              "         C3       H2R  Pressure     Level        C2       Cat      Temp  \\\n",
              "0 -0.275813 -0.448905 -0.608709  2.183673  0.738905  0.618674  0.393138   \n",
              "1  0.127196 -0.448905 -0.337724  0.958317 -0.026235 -0.206091 -1.736289   \n",
              "2  0.217202 -0.448905 -0.750264  1.295911  0.249443  0.281795 -1.796108   \n",
              "3 -0.132429 -0.448905  0.548427  1.656195  0.048959  0.318882 -1.512875   \n",
              "4 -0.277378 -0.491991  0.032788  1.115873 -0.188252 -0.378416 -1.491054   \n",
              "\n",
              "        MFR     lnMFR  \n",
              "0 -0.927809 -1.032139  \n",
              "1 -0.968421 -1.128004  \n",
              "2 -0.968421 -1.128004  \n",
              "3 -0.988728 -1.178208  \n",
              "4 -0.948115 -1.079345  "
            ],
            "text/html": [
              "\n",
              "  <div id=\"df-57801cd5-1581-44f9-8442-c6030f9801e6\" class=\"colab-df-container\">\n",
              "    <div>\n",
              "<style scoped>\n",
              "    .dataframe tbody tr th:only-of-type {\n",
              "        vertical-align: middle;\n",
              "    }\n",
              "\n",
              "    .dataframe tbody tr th {\n",
              "        vertical-align: top;\n",
              "    }\n",
              "\n",
              "    .dataframe thead th {\n",
              "        text-align: right;\n",
              "    }\n",
              "</style>\n",
              "<table border=\"1\" class=\"dataframe\">\n",
              "  <thead>\n",
              "    <tr style=\"text-align: right;\">\n",
              "      <th></th>\n",
              "      <th>C3</th>\n",
              "      <th>H2R</th>\n",
              "      <th>Pressure</th>\n",
              "      <th>Level</th>\n",
              "      <th>C2</th>\n",
              "      <th>Cat</th>\n",
              "      <th>Temp</th>\n",
              "      <th>MFR</th>\n",
              "      <th>lnMFR</th>\n",
              "    </tr>\n",
              "  </thead>\n",
              "  <tbody>\n",
              "    <tr>\n",
              "      <th>0</th>\n",
              "      <td>-0.275813</td>\n",
              "      <td>-0.448905</td>\n",
              "      <td>-0.608709</td>\n",
              "      <td>2.183673</td>\n",
              "      <td>0.738905</td>\n",
              "      <td>0.618674</td>\n",
              "      <td>0.393138</td>\n",
              "      <td>-0.927809</td>\n",
              "      <td>-1.032139</td>\n",
              "    </tr>\n",
              "    <tr>\n",
              "      <th>1</th>\n",
              "      <td>0.127196</td>\n",
              "      <td>-0.448905</td>\n",
              "      <td>-0.337724</td>\n",
              "      <td>0.958317</td>\n",
              "      <td>-0.026235</td>\n",
              "      <td>-0.206091</td>\n",
              "      <td>-1.736289</td>\n",
              "      <td>-0.968421</td>\n",
              "      <td>-1.128004</td>\n",
              "    </tr>\n",
              "    <tr>\n",
              "      <th>2</th>\n",
              "      <td>0.217202</td>\n",
              "      <td>-0.448905</td>\n",
              "      <td>-0.750264</td>\n",
              "      <td>1.295911</td>\n",
              "      <td>0.249443</td>\n",
              "      <td>0.281795</td>\n",
              "      <td>-1.796108</td>\n",
              "      <td>-0.968421</td>\n",
              "      <td>-1.128004</td>\n",
              "    </tr>\n",
              "    <tr>\n",
              "      <th>3</th>\n",
              "      <td>-0.132429</td>\n",
              "      <td>-0.448905</td>\n",
              "      <td>0.548427</td>\n",
              "      <td>1.656195</td>\n",
              "      <td>0.048959</td>\n",
              "      <td>0.318882</td>\n",
              "      <td>-1.512875</td>\n",
              "      <td>-0.988728</td>\n",
              "      <td>-1.178208</td>\n",
              "    </tr>\n",
              "    <tr>\n",
              "      <th>4</th>\n",
              "      <td>-0.277378</td>\n",
              "      <td>-0.491991</td>\n",
              "      <td>0.032788</td>\n",
              "      <td>1.115873</td>\n",
              "      <td>-0.188252</td>\n",
              "      <td>-0.378416</td>\n",
              "      <td>-1.491054</td>\n",
              "      <td>-0.948115</td>\n",
              "      <td>-1.079345</td>\n",
              "    </tr>\n",
              "  </tbody>\n",
              "</table>\n",
              "</div>\n",
              "    <div class=\"colab-df-buttons\">\n",
              "\n",
              "  <div class=\"colab-df-container\">\n",
              "    <button class=\"colab-df-convert\" onclick=\"convertToInteractive('df-57801cd5-1581-44f9-8442-c6030f9801e6')\"\n",
              "            title=\"Convert this dataframe to an interactive table.\"\n",
              "            style=\"display:none;\">\n",
              "\n",
              "  <svg xmlns=\"http://www.w3.org/2000/svg\" height=\"24px\" viewBox=\"0 -960 960 960\">\n",
              "    <path d=\"M120-120v-720h720v720H120Zm60-500h600v-160H180v160Zm220 220h160v-160H400v160Zm0 220h160v-160H400v160ZM180-400h160v-160H180v160Zm440 0h160v-160H620v160ZM180-180h160v-160H180v160Zm440 0h160v-160H620v160Z\"/>\n",
              "  </svg>\n",
              "    </button>\n",
              "\n",
              "  <style>\n",
              "    .colab-df-container {\n",
              "      display:flex;\n",
              "      gap: 12px;\n",
              "    }\n",
              "\n",
              "    .colab-df-convert {\n",
              "      background-color: #E8F0FE;\n",
              "      border: none;\n",
              "      border-radius: 50%;\n",
              "      cursor: pointer;\n",
              "      display: none;\n",
              "      fill: #1967D2;\n",
              "      height: 32px;\n",
              "      padding: 0 0 0 0;\n",
              "      width: 32px;\n",
              "    }\n",
              "\n",
              "    .colab-df-convert:hover {\n",
              "      background-color: #E2EBFA;\n",
              "      box-shadow: 0px 1px 2px rgba(60, 64, 67, 0.3), 0px 1px 3px 1px rgba(60, 64, 67, 0.15);\n",
              "      fill: #174EA6;\n",
              "    }\n",
              "\n",
              "    .colab-df-buttons div {\n",
              "      margin-bottom: 4px;\n",
              "    }\n",
              "\n",
              "    [theme=dark] .colab-df-convert {\n",
              "      background-color: #3B4455;\n",
              "      fill: #D2E3FC;\n",
              "    }\n",
              "\n",
              "    [theme=dark] .colab-df-convert:hover {\n",
              "      background-color: #434B5C;\n",
              "      box-shadow: 0px 1px 3px 1px rgba(0, 0, 0, 0.15);\n",
              "      filter: drop-shadow(0px 1px 2px rgba(0, 0, 0, 0.3));\n",
              "      fill: #FFFFFF;\n",
              "    }\n",
              "  </style>\n",
              "\n",
              "    <script>\n",
              "      const buttonEl =\n",
              "        document.querySelector('#df-57801cd5-1581-44f9-8442-c6030f9801e6 button.colab-df-convert');\n",
              "      buttonEl.style.display =\n",
              "        google.colab.kernel.accessAllowed ? 'block' : 'none';\n",
              "\n",
              "      async function convertToInteractive(key) {\n",
              "        const element = document.querySelector('#df-57801cd5-1581-44f9-8442-c6030f9801e6');\n",
              "        const dataTable =\n",
              "          await google.colab.kernel.invokeFunction('convertToInteractive',\n",
              "                                                    [key], {});\n",
              "        if (!dataTable) return;\n",
              "\n",
              "        const docLinkHtml = 'Like what you see? Visit the ' +\n",
              "          '<a target=\"_blank\" href=https://colab.research.google.com/notebooks/data_table.ipynb>data table notebook</a>'\n",
              "          + ' to learn more about interactive tables.';\n",
              "        element.innerHTML = '';\n",
              "        dataTable['output_type'] = 'display_data';\n",
              "        await google.colab.output.renderOutput(dataTable, element);\n",
              "        const docLink = document.createElement('div');\n",
              "        docLink.innerHTML = docLinkHtml;\n",
              "        element.appendChild(docLink);\n",
              "      }\n",
              "    </script>\n",
              "  </div>\n",
              "\n",
              "\n",
              "<div id=\"df-750b2e8f-6028-49f8-9520-c6644d79bf3a\">\n",
              "  <button class=\"colab-df-quickchart\" onclick=\"quickchart('df-750b2e8f-6028-49f8-9520-c6644d79bf3a')\"\n",
              "            title=\"Suggest charts\"\n",
              "            style=\"display:none;\">\n",
              "\n",
              "<svg xmlns=\"http://www.w3.org/2000/svg\" height=\"24px\"viewBox=\"0 0 24 24\"\n",
              "     width=\"24px\">\n",
              "    <g>\n",
              "        <path d=\"M19 3H5c-1.1 0-2 .9-2 2v14c0 1.1.9 2 2 2h14c1.1 0 2-.9 2-2V5c0-1.1-.9-2-2-2zM9 17H7v-7h2v7zm4 0h-2V7h2v10zm4 0h-2v-4h2v4z\"/>\n",
              "    </g>\n",
              "</svg>\n",
              "  </button>\n",
              "\n",
              "<style>\n",
              "  .colab-df-quickchart {\n",
              "      --bg-color: #E8F0FE;\n",
              "      --fill-color: #1967D2;\n",
              "      --hover-bg-color: #E2EBFA;\n",
              "      --hover-fill-color: #174EA6;\n",
              "      --disabled-fill-color: #AAA;\n",
              "      --disabled-bg-color: #DDD;\n",
              "  }\n",
              "\n",
              "  [theme=dark] .colab-df-quickchart {\n",
              "      --bg-color: #3B4455;\n",
              "      --fill-color: #D2E3FC;\n",
              "      --hover-bg-color: #434B5C;\n",
              "      --hover-fill-color: #FFFFFF;\n",
              "      --disabled-bg-color: #3B4455;\n",
              "      --disabled-fill-color: #666;\n",
              "  }\n",
              "\n",
              "  .colab-df-quickchart {\n",
              "    background-color: var(--bg-color);\n",
              "    border: none;\n",
              "    border-radius: 50%;\n",
              "    cursor: pointer;\n",
              "    display: none;\n",
              "    fill: var(--fill-color);\n",
              "    height: 32px;\n",
              "    padding: 0;\n",
              "    width: 32px;\n",
              "  }\n",
              "\n",
              "  .colab-df-quickchart:hover {\n",
              "    background-color: var(--hover-bg-color);\n",
              "    box-shadow: 0 1px 2px rgba(60, 64, 67, 0.3), 0 1px 3px 1px rgba(60, 64, 67, 0.15);\n",
              "    fill: var(--button-hover-fill-color);\n",
              "  }\n",
              "\n",
              "  .colab-df-quickchart-complete:disabled,\n",
              "  .colab-df-quickchart-complete:disabled:hover {\n",
              "    background-color: var(--disabled-bg-color);\n",
              "    fill: var(--disabled-fill-color);\n",
              "    box-shadow: none;\n",
              "  }\n",
              "\n",
              "  .colab-df-spinner {\n",
              "    border: 2px solid var(--fill-color);\n",
              "    border-color: transparent;\n",
              "    border-bottom-color: var(--fill-color);\n",
              "    animation:\n",
              "      spin 1s steps(1) infinite;\n",
              "  }\n",
              "\n",
              "  @keyframes spin {\n",
              "    0% {\n",
              "      border-color: transparent;\n",
              "      border-bottom-color: var(--fill-color);\n",
              "      border-left-color: var(--fill-color);\n",
              "    }\n",
              "    20% {\n",
              "      border-color: transparent;\n",
              "      border-left-color: var(--fill-color);\n",
              "      border-top-color: var(--fill-color);\n",
              "    }\n",
              "    30% {\n",
              "      border-color: transparent;\n",
              "      border-left-color: var(--fill-color);\n",
              "      border-top-color: var(--fill-color);\n",
              "      border-right-color: var(--fill-color);\n",
              "    }\n",
              "    40% {\n",
              "      border-color: transparent;\n",
              "      border-right-color: var(--fill-color);\n",
              "      border-top-color: var(--fill-color);\n",
              "    }\n",
              "    60% {\n",
              "      border-color: transparent;\n",
              "      border-right-color: var(--fill-color);\n",
              "    }\n",
              "    80% {\n",
              "      border-color: transparent;\n",
              "      border-right-color: var(--fill-color);\n",
              "      border-bottom-color: var(--fill-color);\n",
              "    }\n",
              "    90% {\n",
              "      border-color: transparent;\n",
              "      border-bottom-color: var(--fill-color);\n",
              "    }\n",
              "  }\n",
              "</style>\n",
              "\n",
              "  <script>\n",
              "    async function quickchart(key) {\n",
              "      const quickchartButtonEl =\n",
              "        document.querySelector('#' + key + ' button');\n",
              "      quickchartButtonEl.disabled = true;  // To prevent multiple clicks.\n",
              "      quickchartButtonEl.classList.add('colab-df-spinner');\n",
              "      try {\n",
              "        const charts = await google.colab.kernel.invokeFunction(\n",
              "            'suggestCharts', [key], {});\n",
              "      } catch (error) {\n",
              "        console.error('Error during call to suggestCharts:', error);\n",
              "      }\n",
              "      quickchartButtonEl.classList.remove('colab-df-spinner');\n",
              "      quickchartButtonEl.classList.add('colab-df-quickchart-complete');\n",
              "    }\n",
              "    (() => {\n",
              "      let quickchartButtonEl =\n",
              "        document.querySelector('#df-750b2e8f-6028-49f8-9520-c6644d79bf3a button');\n",
              "      quickchartButtonEl.style.display =\n",
              "        google.colab.kernel.accessAllowed ? 'block' : 'none';\n",
              "    })();\n",
              "  </script>\n",
              "</div>\n",
              "    </div>\n",
              "  </div>\n"
            ],
            "application/vnd.google.colaboratory.intrinsic+json": {
              "type": "dataframe",
              "variable_name": "reactor_data",
              "summary": "{\n  \"name\": \"reactor_data\",\n  \"rows\": 2450,\n  \"fields\": [\n    {\n      \"column\": \"C3\",\n      \"properties\": {\n        \"dtype\": \"number\",\n        \"std\": 1.0002041441278795,\n        \"min\": -5.456852691842703,\n        \"max\": 2.8190553135377967,\n        \"num_unique_values\": 2449,\n        \"samples\": [\n          -0.7007161452004563,\n          -0.0924844097557481,\n          1.0070330078843683\n        ],\n        \"semantic_type\": \"\",\n        \"description\": \"\"\n      }\n    },\n    {\n      \"column\": \"H2R\",\n      \"properties\": {\n        \"dtype\": \"number\",\n        \"std\": 1.0002041441278795,\n        \"min\": -1.3249789115659683,\n        \"max\": 5.539993578093691,\n        \"num_unique_values\": 199,\n        \"samples\": [\n          0.5707876143115824,\n          0.139931618343654,\n          0.9011102573163303\n        ],\n        \"semantic_type\": \"\",\n        \"description\": \"\"\n      }\n    },\n    {\n      \"column\": \"Pressure\",\n      \"properties\": {\n        \"dtype\": \"number\",\n        \"std\": 1.0002041441278793,\n        \"min\": -8.979388586548408,\n        \"max\": 4.844246067143087,\n        \"num_unique_values\": 2445,\n        \"samples\": [\n          -0.8947680669443634,\n          -0.40621932962950286,\n          0.10299491598244087\n        ],\n        \"semantic_type\": \"\",\n        \"description\": \"\"\n      }\n    },\n    {\n      \"column\": \"Level\",\n      \"properties\": {\n        \"dtype\": \"number\",\n        \"std\": 1.0002041441278795,\n        \"min\": -3.350147887761872,\n        \"max\": 6.739451240432817,\n        \"num_unique_values\": 2443,\n        \"samples\": [\n          -0.472075334696947,\n          1.2556356286279517,\n          0.6671204975026476\n        ],\n        \"semantic_type\": \"\",\n        \"description\": \"\"\n      }\n    },\n    {\n      \"column\": \"C2\",\n      \"properties\": {\n        \"dtype\": \"number\",\n        \"std\": 1.0002041441278795,\n        \"min\": -2.9213810982027577,\n        \"max\": 3.682701058413292,\n        \"num_unique_values\": 2450,\n        \"samples\": [\n          -0.020297954789985174,\n          0.7058786206851771,\n          -0.48333804976798445\n        ],\n        \"semantic_type\": \"\",\n        \"description\": \"\"\n      }\n    },\n    {\n      \"column\": \"Cat\",\n      \"properties\": {\n        \"dtype\": \"number\",\n        \"std\": 1.0002041441278793,\n        \"min\": -2.7962641844129372,\n        \"max\": 12.994010375737489,\n        \"num_unique_values\": 2449,\n        \"samples\": [\n          0.2968535964021635,\n          -0.35083447624460534,\n          -1.4413383674207358\n        ],\n        \"semantic_type\": \"\",\n        \"description\": \"\"\n      }\n    },\n    {\n      \"column\": \"Temp\",\n      \"properties\": {\n        \"dtype\": \"number\",\n        \"std\": 1.0002041441278795,\n        \"min\": -3.2606876390591673,\n        \"max\": 3.983785879542619,\n        \"num_unique_values\": 2433,\n        \"samples\": [\n          -1.447584528842483,\n          -0.6172743133441372,\n          -0.43250437642455736\n        ],\n        \"semantic_type\": \"\",\n        \"description\": \"\"\n      }\n    },\n    {\n      \"column\": \"MFR\",\n      \"properties\": {\n        \"dtype\": \"number\",\n        \"std\": 1.0002041441278793,\n        \"min\": -1.313626162960271,\n        \"max\": 3.661382855210264,\n        \"num_unique_values\": 169,\n        \"samples\": [\n          2.950667281185902,\n          1.0621944702068824,\n          -0.4404613148731975\n        ],\n        \"semantic_type\": \"\",\n        \"description\": \"\"\n      }\n    },\n    {\n      \"column\": \"lnMFR\",\n      \"properties\": {\n        \"dtype\": \"number\",\n        \"std\": 1.0002041441278793,\n        \"min\": -2.326126467558396,\n        \"max\": 2.184717338640463,\n        \"num_unique_values\": 169,\n        \"samples\": [\n          1.95609217044093,\n          1.1127914487232826,\n          -0.18759827774080812\n        ],\n        \"semantic_type\": \"\",\n        \"description\": \"\"\n      }\n    }\n  ]\n}"
            }
          },
          "metadata": {},
          "execution_count": 33
        }
      ],
      "source": [
        "reactor_data = pd.DataFrame(data,columns=reactor_data.columns)\n",
        "reactor_data.head()"
      ]
    },
    {
      "cell_type": "code",
      "source": [
        "\n",
        "reactor_data = reactor_data.sample(frac = 1)"
      ],
      "metadata": {
        "id": "Jc4hUWbRu3Ec"
      },
      "execution_count": 34,
      "outputs": []
    },
    {
      "cell_type": "markdown",
      "source": [
        "##Neural Network"
      ],
      "metadata": {
        "id": "PY8oJpbIxAed"
      }
    },
    {
      "cell_type": "code",
      "source": [
        "target = np.array(reactor_data['lnMFR'])"
      ],
      "metadata": {
        "id": "Mf259ZZNDO7t"
      },
      "execution_count": 35,
      "outputs": []
    },
    {
      "cell_type": "code",
      "source": [
        "reactor_data.drop(['MFR', 'lnMFR'], axis = 1)"
      ],
      "metadata": {
        "colab": {
          "base_uri": "https://localhost:8080/",
          "height": 423
        },
        "id": "MDPNqMJF3NpG",
        "outputId": "abb3b5d4-b325-4f05-c57f-b17762c8d56e"
      },
      "execution_count": 36,
      "outputs": [
        {
          "output_type": "execute_result",
          "data": {
            "text/plain": [
              "            C3       H2R  Pressure     Level        C2       Cat      Temp\n",
              "786   1.975919  0.125570 -0.219438  0.436563  1.514126  0.722059 -0.381272\n",
              "1383 -2.377480 -0.061135  0.085525 -0.213454 -0.517450  0.202218 -0.201453\n",
              "2343 -0.577639 -0.721781  1.971444 -1.008276 -0.976138 -1.538819 -1.334092\n",
              "435   0.083109  0.455893  0.918521  1.664270  1.177186 -0.036011 -0.685056\n",
              "1994 -1.978774 -0.061135  0.896555 -1.035102 -0.921613 -0.504959  0.095952\n",
              "...        ...       ...       ...       ...       ...       ...       ...\n",
              "1279 -1.084782  1.662289  1.001924 -2.197626 -1.816139 -0.342448 -1.684349\n",
              "467   1.447979 -0.563800 -0.274289 -0.451879 -0.535074  0.991373 -1.883407\n",
              "2292  0.148678 -0.894123  0.915620 -0.612003 -1.127992 -1.036237  1.517970\n",
              "1004 -1.720146  0.786215  1.826886 -0.464739  0.905348  0.115530  0.309070\n",
              "492   1.626672 -0.132944 -1.499763  0.456303  0.148926  0.361863  2.261267\n",
              "\n",
              "[2450 rows x 7 columns]"
            ],
            "text/html": [
              "\n",
              "  <div id=\"df-99936323-fa70-4e32-9b85-754457a809f3\" class=\"colab-df-container\">\n",
              "    <div>\n",
              "<style scoped>\n",
              "    .dataframe tbody tr th:only-of-type {\n",
              "        vertical-align: middle;\n",
              "    }\n",
              "\n",
              "    .dataframe tbody tr th {\n",
              "        vertical-align: top;\n",
              "    }\n",
              "\n",
              "    .dataframe thead th {\n",
              "        text-align: right;\n",
              "    }\n",
              "</style>\n",
              "<table border=\"1\" class=\"dataframe\">\n",
              "  <thead>\n",
              "    <tr style=\"text-align: right;\">\n",
              "      <th></th>\n",
              "      <th>C3</th>\n",
              "      <th>H2R</th>\n",
              "      <th>Pressure</th>\n",
              "      <th>Level</th>\n",
              "      <th>C2</th>\n",
              "      <th>Cat</th>\n",
              "      <th>Temp</th>\n",
              "    </tr>\n",
              "  </thead>\n",
              "  <tbody>\n",
              "    <tr>\n",
              "      <th>786</th>\n",
              "      <td>1.975919</td>\n",
              "      <td>0.125570</td>\n",
              "      <td>-0.219438</td>\n",
              "      <td>0.436563</td>\n",
              "      <td>1.514126</td>\n",
              "      <td>0.722059</td>\n",
              "      <td>-0.381272</td>\n",
              "    </tr>\n",
              "    <tr>\n",
              "      <th>1383</th>\n",
              "      <td>-2.377480</td>\n",
              "      <td>-0.061135</td>\n",
              "      <td>0.085525</td>\n",
              "      <td>-0.213454</td>\n",
              "      <td>-0.517450</td>\n",
              "      <td>0.202218</td>\n",
              "      <td>-0.201453</td>\n",
              "    </tr>\n",
              "    <tr>\n",
              "      <th>2343</th>\n",
              "      <td>-0.577639</td>\n",
              "      <td>-0.721781</td>\n",
              "      <td>1.971444</td>\n",
              "      <td>-1.008276</td>\n",
              "      <td>-0.976138</td>\n",
              "      <td>-1.538819</td>\n",
              "      <td>-1.334092</td>\n",
              "    </tr>\n",
              "    <tr>\n",
              "      <th>435</th>\n",
              "      <td>0.083109</td>\n",
              "      <td>0.455893</td>\n",
              "      <td>0.918521</td>\n",
              "      <td>1.664270</td>\n",
              "      <td>1.177186</td>\n",
              "      <td>-0.036011</td>\n",
              "      <td>-0.685056</td>\n",
              "    </tr>\n",
              "    <tr>\n",
              "      <th>1994</th>\n",
              "      <td>-1.978774</td>\n",
              "      <td>-0.061135</td>\n",
              "      <td>0.896555</td>\n",
              "      <td>-1.035102</td>\n",
              "      <td>-0.921613</td>\n",
              "      <td>-0.504959</td>\n",
              "      <td>0.095952</td>\n",
              "    </tr>\n",
              "    <tr>\n",
              "      <th>...</th>\n",
              "      <td>...</td>\n",
              "      <td>...</td>\n",
              "      <td>...</td>\n",
              "      <td>...</td>\n",
              "      <td>...</td>\n",
              "      <td>...</td>\n",
              "      <td>...</td>\n",
              "    </tr>\n",
              "    <tr>\n",
              "      <th>1279</th>\n",
              "      <td>-1.084782</td>\n",
              "      <td>1.662289</td>\n",
              "      <td>1.001924</td>\n",
              "      <td>-2.197626</td>\n",
              "      <td>-1.816139</td>\n",
              "      <td>-0.342448</td>\n",
              "      <td>-1.684349</td>\n",
              "    </tr>\n",
              "    <tr>\n",
              "      <th>467</th>\n",
              "      <td>1.447979</td>\n",
              "      <td>-0.563800</td>\n",
              "      <td>-0.274289</td>\n",
              "      <td>-0.451879</td>\n",
              "      <td>-0.535074</td>\n",
              "      <td>0.991373</td>\n",
              "      <td>-1.883407</td>\n",
              "    </tr>\n",
              "    <tr>\n",
              "      <th>2292</th>\n",
              "      <td>0.148678</td>\n",
              "      <td>-0.894123</td>\n",
              "      <td>0.915620</td>\n",
              "      <td>-0.612003</td>\n",
              "      <td>-1.127992</td>\n",
              "      <td>-1.036237</td>\n",
              "      <td>1.517970</td>\n",
              "    </tr>\n",
              "    <tr>\n",
              "      <th>1004</th>\n",
              "      <td>-1.720146</td>\n",
              "      <td>0.786215</td>\n",
              "      <td>1.826886</td>\n",
              "      <td>-0.464739</td>\n",
              "      <td>0.905348</td>\n",
              "      <td>0.115530</td>\n",
              "      <td>0.309070</td>\n",
              "    </tr>\n",
              "    <tr>\n",
              "      <th>492</th>\n",
              "      <td>1.626672</td>\n",
              "      <td>-0.132944</td>\n",
              "      <td>-1.499763</td>\n",
              "      <td>0.456303</td>\n",
              "      <td>0.148926</td>\n",
              "      <td>0.361863</td>\n",
              "      <td>2.261267</td>\n",
              "    </tr>\n",
              "  </tbody>\n",
              "</table>\n",
              "<p>2450 rows × 7 columns</p>\n",
              "</div>\n",
              "    <div class=\"colab-df-buttons\">\n",
              "\n",
              "  <div class=\"colab-df-container\">\n",
              "    <button class=\"colab-df-convert\" onclick=\"convertToInteractive('df-99936323-fa70-4e32-9b85-754457a809f3')\"\n",
              "            title=\"Convert this dataframe to an interactive table.\"\n",
              "            style=\"display:none;\">\n",
              "\n",
              "  <svg xmlns=\"http://www.w3.org/2000/svg\" height=\"24px\" viewBox=\"0 -960 960 960\">\n",
              "    <path d=\"M120-120v-720h720v720H120Zm60-500h600v-160H180v160Zm220 220h160v-160H400v160Zm0 220h160v-160H400v160ZM180-400h160v-160H180v160Zm440 0h160v-160H620v160ZM180-180h160v-160H180v160Zm440 0h160v-160H620v160Z\"/>\n",
              "  </svg>\n",
              "    </button>\n",
              "\n",
              "  <style>\n",
              "    .colab-df-container {\n",
              "      display:flex;\n",
              "      gap: 12px;\n",
              "    }\n",
              "\n",
              "    .colab-df-convert {\n",
              "      background-color: #E8F0FE;\n",
              "      border: none;\n",
              "      border-radius: 50%;\n",
              "      cursor: pointer;\n",
              "      display: none;\n",
              "      fill: #1967D2;\n",
              "      height: 32px;\n",
              "      padding: 0 0 0 0;\n",
              "      width: 32px;\n",
              "    }\n",
              "\n",
              "    .colab-df-convert:hover {\n",
              "      background-color: #E2EBFA;\n",
              "      box-shadow: 0px 1px 2px rgba(60, 64, 67, 0.3), 0px 1px 3px 1px rgba(60, 64, 67, 0.15);\n",
              "      fill: #174EA6;\n",
              "    }\n",
              "\n",
              "    .colab-df-buttons div {\n",
              "      margin-bottom: 4px;\n",
              "    }\n",
              "\n",
              "    [theme=dark] .colab-df-convert {\n",
              "      background-color: #3B4455;\n",
              "      fill: #D2E3FC;\n",
              "    }\n",
              "\n",
              "    [theme=dark] .colab-df-convert:hover {\n",
              "      background-color: #434B5C;\n",
              "      box-shadow: 0px 1px 3px 1px rgba(0, 0, 0, 0.15);\n",
              "      filter: drop-shadow(0px 1px 2px rgba(0, 0, 0, 0.3));\n",
              "      fill: #FFFFFF;\n",
              "    }\n",
              "  </style>\n",
              "\n",
              "    <script>\n",
              "      const buttonEl =\n",
              "        document.querySelector('#df-99936323-fa70-4e32-9b85-754457a809f3 button.colab-df-convert');\n",
              "      buttonEl.style.display =\n",
              "        google.colab.kernel.accessAllowed ? 'block' : 'none';\n",
              "\n",
              "      async function convertToInteractive(key) {\n",
              "        const element = document.querySelector('#df-99936323-fa70-4e32-9b85-754457a809f3');\n",
              "        const dataTable =\n",
              "          await google.colab.kernel.invokeFunction('convertToInteractive',\n",
              "                                                    [key], {});\n",
              "        if (!dataTable) return;\n",
              "\n",
              "        const docLinkHtml = 'Like what you see? Visit the ' +\n",
              "          '<a target=\"_blank\" href=https://colab.research.google.com/notebooks/data_table.ipynb>data table notebook</a>'\n",
              "          + ' to learn more about interactive tables.';\n",
              "        element.innerHTML = '';\n",
              "        dataTable['output_type'] = 'display_data';\n",
              "        await google.colab.output.renderOutput(dataTable, element);\n",
              "        const docLink = document.createElement('div');\n",
              "        docLink.innerHTML = docLinkHtml;\n",
              "        element.appendChild(docLink);\n",
              "      }\n",
              "    </script>\n",
              "  </div>\n",
              "\n",
              "\n",
              "<div id=\"df-532958f1-6770-4bd2-9522-a3d0ec783e8c\">\n",
              "  <button class=\"colab-df-quickchart\" onclick=\"quickchart('df-532958f1-6770-4bd2-9522-a3d0ec783e8c')\"\n",
              "            title=\"Suggest charts\"\n",
              "            style=\"display:none;\">\n",
              "\n",
              "<svg xmlns=\"http://www.w3.org/2000/svg\" height=\"24px\"viewBox=\"0 0 24 24\"\n",
              "     width=\"24px\">\n",
              "    <g>\n",
              "        <path d=\"M19 3H5c-1.1 0-2 .9-2 2v14c0 1.1.9 2 2 2h14c1.1 0 2-.9 2-2V5c0-1.1-.9-2-2-2zM9 17H7v-7h2v7zm4 0h-2V7h2v10zm4 0h-2v-4h2v4z\"/>\n",
              "    </g>\n",
              "</svg>\n",
              "  </button>\n",
              "\n",
              "<style>\n",
              "  .colab-df-quickchart {\n",
              "      --bg-color: #E8F0FE;\n",
              "      --fill-color: #1967D2;\n",
              "      --hover-bg-color: #E2EBFA;\n",
              "      --hover-fill-color: #174EA6;\n",
              "      --disabled-fill-color: #AAA;\n",
              "      --disabled-bg-color: #DDD;\n",
              "  }\n",
              "\n",
              "  [theme=dark] .colab-df-quickchart {\n",
              "      --bg-color: #3B4455;\n",
              "      --fill-color: #D2E3FC;\n",
              "      --hover-bg-color: #434B5C;\n",
              "      --hover-fill-color: #FFFFFF;\n",
              "      --disabled-bg-color: #3B4455;\n",
              "      --disabled-fill-color: #666;\n",
              "  }\n",
              "\n",
              "  .colab-df-quickchart {\n",
              "    background-color: var(--bg-color);\n",
              "    border: none;\n",
              "    border-radius: 50%;\n",
              "    cursor: pointer;\n",
              "    display: none;\n",
              "    fill: var(--fill-color);\n",
              "    height: 32px;\n",
              "    padding: 0;\n",
              "    width: 32px;\n",
              "  }\n",
              "\n",
              "  .colab-df-quickchart:hover {\n",
              "    background-color: var(--hover-bg-color);\n",
              "    box-shadow: 0 1px 2px rgba(60, 64, 67, 0.3), 0 1px 3px 1px rgba(60, 64, 67, 0.15);\n",
              "    fill: var(--button-hover-fill-color);\n",
              "  }\n",
              "\n",
              "  .colab-df-quickchart-complete:disabled,\n",
              "  .colab-df-quickchart-complete:disabled:hover {\n",
              "    background-color: var(--disabled-bg-color);\n",
              "    fill: var(--disabled-fill-color);\n",
              "    box-shadow: none;\n",
              "  }\n",
              "\n",
              "  .colab-df-spinner {\n",
              "    border: 2px solid var(--fill-color);\n",
              "    border-color: transparent;\n",
              "    border-bottom-color: var(--fill-color);\n",
              "    animation:\n",
              "      spin 1s steps(1) infinite;\n",
              "  }\n",
              "\n",
              "  @keyframes spin {\n",
              "    0% {\n",
              "      border-color: transparent;\n",
              "      border-bottom-color: var(--fill-color);\n",
              "      border-left-color: var(--fill-color);\n",
              "    }\n",
              "    20% {\n",
              "      border-color: transparent;\n",
              "      border-left-color: var(--fill-color);\n",
              "      border-top-color: var(--fill-color);\n",
              "    }\n",
              "    30% {\n",
              "      border-color: transparent;\n",
              "      border-left-color: var(--fill-color);\n",
              "      border-top-color: var(--fill-color);\n",
              "      border-right-color: var(--fill-color);\n",
              "    }\n",
              "    40% {\n",
              "      border-color: transparent;\n",
              "      border-right-color: var(--fill-color);\n",
              "      border-top-color: var(--fill-color);\n",
              "    }\n",
              "    60% {\n",
              "      border-color: transparent;\n",
              "      border-right-color: var(--fill-color);\n",
              "    }\n",
              "    80% {\n",
              "      border-color: transparent;\n",
              "      border-right-color: var(--fill-color);\n",
              "      border-bottom-color: var(--fill-color);\n",
              "    }\n",
              "    90% {\n",
              "      border-color: transparent;\n",
              "      border-bottom-color: var(--fill-color);\n",
              "    }\n",
              "  }\n",
              "</style>\n",
              "\n",
              "  <script>\n",
              "    async function quickchart(key) {\n",
              "      const quickchartButtonEl =\n",
              "        document.querySelector('#' + key + ' button');\n",
              "      quickchartButtonEl.disabled = true;  // To prevent multiple clicks.\n",
              "      quickchartButtonEl.classList.add('colab-df-spinner');\n",
              "      try {\n",
              "        const charts = await google.colab.kernel.invokeFunction(\n",
              "            'suggestCharts', [key], {});\n",
              "      } catch (error) {\n",
              "        console.error('Error during call to suggestCharts:', error);\n",
              "      }\n",
              "      quickchartButtonEl.classList.remove('colab-df-spinner');\n",
              "      quickchartButtonEl.classList.add('colab-df-quickchart-complete');\n",
              "    }\n",
              "    (() => {\n",
              "      let quickchartButtonEl =\n",
              "        document.querySelector('#df-532958f1-6770-4bd2-9522-a3d0ec783e8c button');\n",
              "      quickchartButtonEl.style.display =\n",
              "        google.colab.kernel.accessAllowed ? 'block' : 'none';\n",
              "    })();\n",
              "  </script>\n",
              "</div>\n",
              "    </div>\n",
              "  </div>\n"
            ],
            "application/vnd.google.colaboratory.intrinsic+json": {
              "type": "dataframe",
              "summary": "{\n  \"name\": \"reactor_data\",\n  \"rows\": 2450,\n  \"fields\": [\n    {\n      \"column\": \"C3\",\n      \"properties\": {\n        \"dtype\": \"number\",\n        \"std\": 1.0002041441278795,\n        \"min\": -5.456852691842703,\n        \"max\": 2.8190553135377967,\n        \"num_unique_values\": 2449,\n        \"samples\": [\n          -1.5951106697635207,\n          1.3932255053936797,\n          -1.9975279615801107\n        ],\n        \"semantic_type\": \"\",\n        \"description\": \"\"\n      }\n    },\n    {\n      \"column\": \"H2R\",\n      \"properties\": {\n        \"dtype\": \"number\",\n        \"std\": 1.0002041441278795,\n        \"min\": -1.3249789115659683,\n        \"max\": 5.539993578093691,\n        \"num_unique_values\": 199,\n        \"samples\": [\n          -0.2909245212429397,\n          0.2835501400476313,\n          -0.31964825430746835\n        ],\n        \"semantic_type\": \"\",\n        \"description\": \"\"\n      }\n    },\n    {\n      \"column\": \"Pressure\",\n      \"properties\": {\n        \"dtype\": \"number\",\n        \"std\": 1.0002041441278795,\n        \"min\": -8.979388586548408,\n        \"max\": 4.844246067143087,\n        \"num_unique_values\": 2445,\n        \"samples\": [\n          -0.9372599044530261,\n          -0.20982339365988542,\n          -0.37153467644188665\n        ],\n        \"semantic_type\": \"\",\n        \"description\": \"\"\n      }\n    },\n    {\n      \"column\": \"Level\",\n      \"properties\": {\n        \"dtype\": \"number\",\n        \"std\": 1.0002041441278795,\n        \"min\": -3.350147887761872,\n        \"max\": 6.739451240432817,\n        \"num_unique_values\": 2443,\n        \"samples\": [\n          -0.9320187386840892,\n          2.386789806893819,\n          2.597300379692632\n        ],\n        \"semantic_type\": \"\",\n        \"description\": \"\"\n      }\n    },\n    {\n      \"column\": \"C2\",\n      \"properties\": {\n        \"dtype\": \"number\",\n        \"std\": 1.0002041441278795,\n        \"min\": -2.9213810982027577,\n        \"max\": 3.682701058413292,\n        \"num_unique_values\": 2450,\n        \"samples\": [\n          -0.8182644897005148,\n          1.0919520928076403,\n          -2.2579087433489264\n        ],\n        \"semantic_type\": \"\",\n        \"description\": \"\"\n      }\n    },\n    {\n      \"column\": \"Cat\",\n      \"properties\": {\n        \"dtype\": \"number\",\n        \"std\": 1.0002041441278793,\n        \"min\": -2.7962641844129372,\n        \"max\": 12.994010375737489,\n        \"num_unique_values\": 2449,\n        \"samples\": [\n          1.369738320737445,\n          0.8603279037624295,\n          -0.5937928230977215\n        ],\n        \"semantic_type\": \"\",\n        \"description\": \"\"\n      }\n    },\n    {\n      \"column\": \"Temp\",\n      \"properties\": {\n        \"dtype\": \"number\",\n        \"std\": 1.0002041441278795,\n        \"min\": -3.2606876390591673,\n        \"max\": 3.983785879542619,\n        \"num_unique_values\": 2433,\n        \"samples\": [\n          0.30690483306701777,\n          -1.2133136466270675,\n          -0.8042618881832198\n        ],\n        \"semantic_type\": \"\",\n        \"description\": \"\"\n      }\n    }\n  ]\n}"
            }
          },
          "metadata": {},
          "execution_count": 36
        }
      ]
    },
    {
      "cell_type": "code",
      "source": [
        "from sklearn.model_selection import train_test_split\n",
        "X_train_full, X_test, y_train_full, y_test = train_test_split(reactor_data, target, test_size = 1/5, shuffle=False)\n",
        "X_train_tr, X_train_v, y_train_tr, y_train_v = train_test_split(X_train_full,\n",
        "                                                                y_train_full,\n",
        "                                                                test_size = 1/4, shuffle=False)\n"
      ],
      "metadata": {
        "id": "n6y-73rt3RfA"
      },
      "execution_count": 37,
      "outputs": []
    },
    {
      "cell_type": "code",
      "source": [
        "import keras\n",
        "import tensorflow as tf"
      ],
      "metadata": {
        "id": "Zio8qf343s9L"
      },
      "execution_count": 35,
      "outputs": []
    },
    {
      "cell_type": "code",
      "source": [
        "!pip install -q -U keras-tuner\n",
        "import keras_tuner as kt"
      ],
      "metadata": {
        "id": "Xi2NQnkGy0UO",
        "colab": {
          "base_uri": "https://localhost:8080/"
        },
        "outputId": "85b09c7b-0c9a-475d-e495-d28e6e555679"
      },
      "execution_count": 36,
      "outputs": [
        {
          "output_type": "stream",
          "name": "stdout",
          "text": [
            "\u001b[?25l     \u001b[90m━━━━━━━━━━━━━━━━━━━━━━━━━━━━━━━━━━━━━━━━\u001b[0m \u001b[32m0.0/129.1 kB\u001b[0m \u001b[31m?\u001b[0m eta \u001b[36m-:--:--\u001b[0m\r\u001b[2K     \u001b[91m━━━━━━━━━━━━━━━━━━━━━━━━━━━━━━━━━━━━━━\u001b[0m\u001b[90m╺\u001b[0m\u001b[90m━\u001b[0m \u001b[32m122.9/129.1 kB\u001b[0m \u001b[31m3.8 MB/s\u001b[0m eta \u001b[36m0:00:01\u001b[0m\r\u001b[2K     \u001b[90m━━━━━━━━━━━━━━━━━━━━━━━━━━━━━━━━━━━━━━━━\u001b[0m \u001b[32m129.1/129.1 kB\u001b[0m \u001b[31m3.0 MB/s\u001b[0m eta \u001b[36m0:00:00\u001b[0m\n",
            "\u001b[?25h"
          ]
        }
      ]
    },
    {
      "cell_type": "code",
      "source": [
        "keras.backend.clear_session()\n",
        "np.random.seed(42)\n",
        "tf.random.set_seed(42)"
      ],
      "metadata": {
        "id": "2h7R4Ycc-bMG"
      },
      "execution_count": 37,
      "outputs": []
    },
    {
      "cell_type": "code",
      "execution_count": 38,
      "metadata": {
        "id": "sVkO6eg_s7bR"
      },
      "outputs": [],
      "source": [
        "def build_model(hp):\n",
        "  model = keras.Sequential()\n",
        "  model.add(keras.layers.Dense(\n",
        "      hp.Int('unit[0]',21, 100, step = 10), activation = 'linear')\n",
        "  )\n",
        "  model.add(keras.layers.Dense(\n",
        "      hp.Int('unit[1]', 23, 100, step = 10), activation = 'relu')\n",
        "  )\n",
        "  model.add(keras.layers.Dense(\n",
        "      hp.Int('unit[2]', 23, 100, step = 10), activation = 'relu')\n",
        "  )\n",
        "\n",
        "\n",
        "  model.add(keras.layers.Dense(1,activation='linear'))\n",
        "  hp_learning_rate = hp.Choice('learning_rate', values=[1e-2, 1e-3])\n",
        "  model.compile(loss='mse',\n",
        "                optimizer=tf.keras.optimizers.Adam(learning_rate=hp_learning_rate),metrics=\"mean_squared_error\")\n",
        "  return model"
      ]
    },
    {
      "cell_type": "code",
      "source": [
        "tuner = kt.Hyperband(build_model, objective='mean_squared_error', overwrite=True)"
      ],
      "metadata": {
        "id": "bqqCIOPs3jn7"
      },
      "execution_count": 39,
      "outputs": []
    },
    {
      "cell_type": "code",
      "source": [
        "import time\n",
        "#Starting Timer\n",
        "t0 = time.time()"
      ],
      "metadata": {
        "id": "gmeg8vhn-hgN"
      },
      "execution_count": 40,
      "outputs": []
    },
    {
      "cell_type": "code",
      "source": [
        "tuner.search(X_train_tr, y_train_tr, epochs=40,validation_data=(X_train_v,y_train_v),\n",
        "             callbacks=[keras.callbacks.EarlyStopping(patience=15)])"
      ],
      "metadata": {
        "id": "y9wVqr0d7TDl",
        "colab": {
          "base_uri": "https://localhost:8080/"
        },
        "outputId": "986de550-30dd-4aea-952a-00073602a1cc"
      },
      "execution_count": 41,
      "outputs": [
        {
          "output_type": "stream",
          "name": "stdout",
          "text": [
            "Trial 254 Complete [00h 00m 19s]\n",
            "mean_squared_error: 3.1770985515322536e-05\n",
            "\n",
            "Best mean_squared_error So Far: 1.1868049114127643e-05\n",
            "Total elapsed time: 00h 21m 50s\n"
          ]
        }
      ]
    },
    {
      "cell_type": "code",
      "source": [
        "\n",
        "#Stopping Timer\n",
        "t1 = time.time()\n",
        "#Printing Execution Time for fit\n",
        "total = t1-t0\n",
        "time_taken =  \" The total time taken to run is: \" + str(total) + \" seconds\"\n",
        "print(time_taken)"
      ],
      "metadata": {
        "colab": {
          "base_uri": "https://localhost:8080/"
        },
        "id": "R6dlD3RQ-p1C",
        "outputId": "247ad9f7-f7da-45b4-8d4a-dc3a1923bf6d"
      },
      "execution_count": 42,
      "outputs": [
        {
          "output_type": "stream",
          "name": "stdout",
          "text": [
            " The total time taken to run is: 1309.8732295036316 seconds\n"
          ]
        }
      ]
    },
    {
      "cell_type": "code",
      "source": [
        "best_hps = tuner.get_best_hyperparameters()\n",
        "best_hps"
      ],
      "metadata": {
        "colab": {
          "base_uri": "https://localhost:8080/"
        },
        "id": "5JvCdh0H_T6E",
        "outputId": "d7fcc1e6-6761-4788-f60f-b1e319baa586"
      },
      "execution_count": 43,
      "outputs": [
        {
          "output_type": "execute_result",
          "data": {
            "text/plain": [
              "[<keras_tuner.src.engine.hyperparameters.hyperparameters.HyperParameters at 0x7996d714aaa0>]"
            ]
          },
          "metadata": {},
          "execution_count": 43
        }
      ]
    },
    {
      "cell_type": "code",
      "source": [
        "hyper_model = tuner.hypermodel.build(best_hps[0])\n",
        "hyper_model"
      ],
      "metadata": {
        "id": "CZNMzvAFf8Hv",
        "colab": {
          "base_uri": "https://localhost:8080/"
        },
        "outputId": "c6b191ff-4b4a-4239-a84e-91e7c553e92e"
      },
      "execution_count": 58,
      "outputs": [
        {
          "output_type": "execute_result",
          "data": {
            "text/plain": [
              "<keras.src.engine.sequential.Sequential at 0x799743ff3cd0>"
            ]
          },
          "metadata": {},
          "execution_count": 58
        }
      ]
    },
    {
      "cell_type": "code",
      "source": [],
      "metadata": {
        "id": "mOAj3X3YPilu"
      },
      "execution_count": 54,
      "outputs": []
    },
    {
      "cell_type": "code",
      "source": [
        "\n",
        "hyper_model.save('/content/drive/My Drive/model_{}.keras'.format(1))"
      ],
      "metadata": {
        "id": "rS8njM_FU8Ik"
      },
      "execution_count": 64,
      "outputs": []
    },
    {
      "cell_type": "code",
      "source": [
        "hyper_model.fit(X_train_tr, y_train_tr, epochs =50, validation_data=(X_train_v, y_train_v), callbacks=[keras.callbacks.EarlyStopping(patience=10)])"
      ],
      "metadata": {
        "id": "XrrdYgSbhIfp",
        "colab": {
          "base_uri": "https://localhost:8080/"
        },
        "outputId": "ee9c9fcb-d136-4b2d-dc3e-15a7fb4f30cb"
      },
      "execution_count": 65,
      "outputs": [
        {
          "output_type": "stream",
          "name": "stdout",
          "text": [
            "Epoch 1/50\n",
            "46/46 [==============================] - 1s 8ms/step - loss: 0.1127 - mean_squared_error: 0.1127 - val_loss: 0.0153 - val_mean_squared_error: 0.0153\n",
            "Epoch 2/50\n",
            "46/46 [==============================] - 0s 4ms/step - loss: 0.0069 - mean_squared_error: 0.0069 - val_loss: 0.0090 - val_mean_squared_error: 0.0090\n",
            "Epoch 3/50\n",
            "46/46 [==============================] - 0s 5ms/step - loss: 0.0058 - mean_squared_error: 0.0058 - val_loss: 0.0017 - val_mean_squared_error: 0.0017\n",
            "Epoch 4/50\n",
            "46/46 [==============================] - 0s 4ms/step - loss: 8.9045e-04 - mean_squared_error: 8.9045e-04 - val_loss: 0.0011 - val_mean_squared_error: 0.0011\n",
            "Epoch 5/50\n",
            "46/46 [==============================] - 0s 4ms/step - loss: 6.4506e-04 - mean_squared_error: 6.4506e-04 - val_loss: 6.2569e-04 - val_mean_squared_error: 6.2569e-04\n",
            "Epoch 6/50\n",
            "46/46 [==============================] - 0s 4ms/step - loss: 4.0023e-04 - mean_squared_error: 4.0023e-04 - val_loss: 5.9444e-04 - val_mean_squared_error: 5.9444e-04\n",
            "Epoch 7/50\n",
            "46/46 [==============================] - 0s 5ms/step - loss: 3.3646e-04 - mean_squared_error: 3.3646e-04 - val_loss: 5.7515e-04 - val_mean_squared_error: 5.7515e-04\n",
            "Epoch 8/50\n",
            "46/46 [==============================] - 0s 5ms/step - loss: 3.6921e-04 - mean_squared_error: 3.6921e-04 - val_loss: 6.5590e-04 - val_mean_squared_error: 6.5590e-04\n",
            "Epoch 9/50\n",
            "46/46 [==============================] - 0s 5ms/step - loss: 4.0364e-04 - mean_squared_error: 4.0364e-04 - val_loss: 6.9176e-04 - val_mean_squared_error: 6.9176e-04\n",
            "Epoch 10/50\n",
            "46/46 [==============================] - 0s 4ms/step - loss: 6.3964e-04 - mean_squared_error: 6.3964e-04 - val_loss: 0.0014 - val_mean_squared_error: 0.0014\n",
            "Epoch 11/50\n",
            "46/46 [==============================] - 0s 5ms/step - loss: 0.0011 - mean_squared_error: 0.0011 - val_loss: 8.6496e-04 - val_mean_squared_error: 8.6496e-04\n",
            "Epoch 12/50\n",
            "46/46 [==============================] - 0s 4ms/step - loss: 7.6022e-04 - mean_squared_error: 7.6022e-04 - val_loss: 6.9057e-04 - val_mean_squared_error: 6.9057e-04\n",
            "Epoch 13/50\n",
            "46/46 [==============================] - 0s 5ms/step - loss: 5.0111e-04 - mean_squared_error: 5.0111e-04 - val_loss: 4.5560e-04 - val_mean_squared_error: 4.5560e-04\n",
            "Epoch 14/50\n",
            "46/46 [==============================] - 0s 4ms/step - loss: 4.7315e-04 - mean_squared_error: 4.7315e-04 - val_loss: 2.8424e-04 - val_mean_squared_error: 2.8424e-04\n",
            "Epoch 15/50\n",
            "46/46 [==============================] - 0s 4ms/step - loss: 2.6572e-04 - mean_squared_error: 2.6572e-04 - val_loss: 3.7777e-04 - val_mean_squared_error: 3.7777e-04\n",
            "Epoch 16/50\n",
            "46/46 [==============================] - 0s 4ms/step - loss: 4.2998e-04 - mean_squared_error: 4.2998e-04 - val_loss: 7.5250e-04 - val_mean_squared_error: 7.5250e-04\n",
            "Epoch 17/50\n",
            "46/46 [==============================] - 0s 4ms/step - loss: 9.4179e-04 - mean_squared_error: 9.4179e-04 - val_loss: 0.0013 - val_mean_squared_error: 0.0013\n",
            "Epoch 18/50\n",
            "46/46 [==============================] - 0s 5ms/step - loss: 6.6604e-04 - mean_squared_error: 6.6604e-04 - val_loss: 4.7945e-04 - val_mean_squared_error: 4.7945e-04\n",
            "Epoch 19/50\n",
            "46/46 [==============================] - 0s 5ms/step - loss: 3.5093e-04 - mean_squared_error: 3.5093e-04 - val_loss: 2.4892e-04 - val_mean_squared_error: 2.4892e-04\n",
            "Epoch 20/50\n",
            "46/46 [==============================] - 0s 5ms/step - loss: 4.4074e-04 - mean_squared_error: 4.4074e-04 - val_loss: 3.4103e-04 - val_mean_squared_error: 3.4103e-04\n",
            "Epoch 21/50\n",
            "46/46 [==============================] - 0s 5ms/step - loss: 4.5061e-04 - mean_squared_error: 4.5061e-04 - val_loss: 0.0012 - val_mean_squared_error: 0.0012\n",
            "Epoch 22/50\n",
            "46/46 [==============================] - 0s 4ms/step - loss: 4.9432e-04 - mean_squared_error: 4.9432e-04 - val_loss: 4.4081e-04 - val_mean_squared_error: 4.4081e-04\n",
            "Epoch 23/50\n",
            "46/46 [==============================] - 0s 5ms/step - loss: 4.8690e-04 - mean_squared_error: 4.8690e-04 - val_loss: 2.3871e-04 - val_mean_squared_error: 2.3871e-04\n",
            "Epoch 24/50\n",
            "46/46 [==============================] - 0s 5ms/step - loss: 6.5213e-04 - mean_squared_error: 6.5213e-04 - val_loss: 0.0011 - val_mean_squared_error: 0.0011\n",
            "Epoch 25/50\n",
            "46/46 [==============================] - 0s 4ms/step - loss: 8.2551e-04 - mean_squared_error: 8.2551e-04 - val_loss: 5.8860e-04 - val_mean_squared_error: 5.8860e-04\n",
            "Epoch 26/50\n",
            "46/46 [==============================] - 0s 4ms/step - loss: 5.2996e-04 - mean_squared_error: 5.2996e-04 - val_loss: 5.7732e-04 - val_mean_squared_error: 5.7732e-04\n",
            "Epoch 27/50\n",
            "46/46 [==============================] - 0s 6ms/step - loss: 7.4630e-04 - mean_squared_error: 7.4630e-04 - val_loss: 8.7999e-04 - val_mean_squared_error: 8.7999e-04\n",
            "Epoch 28/50\n",
            "46/46 [==============================] - 0s 7ms/step - loss: 3.7059e-04 - mean_squared_error: 3.7059e-04 - val_loss: 1.9443e-04 - val_mean_squared_error: 1.9443e-04\n",
            "Epoch 29/50\n",
            "46/46 [==============================] - 0s 6ms/step - loss: 3.8606e-04 - mean_squared_error: 3.8606e-04 - val_loss: 6.0084e-04 - val_mean_squared_error: 6.0084e-04\n",
            "Epoch 30/50\n",
            "46/46 [==============================] - 0s 7ms/step - loss: 5.7532e-04 - mean_squared_error: 5.7532e-04 - val_loss: 5.9942e-04 - val_mean_squared_error: 5.9942e-04\n",
            "Epoch 31/50\n",
            "46/46 [==============================] - 0s 7ms/step - loss: 0.0012 - mean_squared_error: 0.0012 - val_loss: 0.0012 - val_mean_squared_error: 0.0012\n",
            "Epoch 32/50\n",
            "46/46 [==============================] - 0s 7ms/step - loss: 9.0170e-04 - mean_squared_error: 9.0170e-04 - val_loss: 7.2143e-04 - val_mean_squared_error: 7.2143e-04\n",
            "Epoch 33/50\n",
            "46/46 [==============================] - 0s 7ms/step - loss: 2.9554e-04 - mean_squared_error: 2.9554e-04 - val_loss: 1.6525e-04 - val_mean_squared_error: 1.6525e-04\n",
            "Epoch 34/50\n",
            "46/46 [==============================] - 0s 7ms/step - loss: 3.0525e-04 - mean_squared_error: 3.0525e-04 - val_loss: 3.0524e-04 - val_mean_squared_error: 3.0524e-04\n",
            "Epoch 35/50\n",
            "46/46 [==============================] - 0s 7ms/step - loss: 3.7846e-04 - mean_squared_error: 3.7846e-04 - val_loss: 0.0028 - val_mean_squared_error: 0.0028\n",
            "Epoch 36/50\n",
            "46/46 [==============================] - 0s 7ms/step - loss: 0.0022 - mean_squared_error: 0.0022 - val_loss: 0.0030 - val_mean_squared_error: 0.0030\n",
            "Epoch 37/50\n",
            "46/46 [==============================] - 0s 7ms/step - loss: 0.0023 - mean_squared_error: 0.0023 - val_loss: 0.0011 - val_mean_squared_error: 0.0011\n",
            "Epoch 38/50\n",
            "46/46 [==============================] - 0s 8ms/step - loss: 9.0739e-04 - mean_squared_error: 9.0739e-04 - val_loss: 5.0461e-04 - val_mean_squared_error: 5.0461e-04\n",
            "Epoch 39/50\n",
            "46/46 [==============================] - 0s 5ms/step - loss: 4.3041e-04 - mean_squared_error: 4.3041e-04 - val_loss: 2.7691e-04 - val_mean_squared_error: 2.7691e-04\n",
            "Epoch 40/50\n",
            "46/46 [==============================] - 0s 4ms/step - loss: 1.5356e-04 - mean_squared_error: 1.5356e-04 - val_loss: 1.0534e-04 - val_mean_squared_error: 1.0534e-04\n",
            "Epoch 41/50\n",
            "46/46 [==============================] - 0s 4ms/step - loss: 1.2486e-04 - mean_squared_error: 1.2486e-04 - val_loss: 7.8521e-05 - val_mean_squared_error: 7.8521e-05\n",
            "Epoch 42/50\n",
            "46/46 [==============================] - 0s 5ms/step - loss: 1.0073e-04 - mean_squared_error: 1.0073e-04 - val_loss: 8.9989e-05 - val_mean_squared_error: 8.9989e-05\n",
            "Epoch 43/50\n",
            "46/46 [==============================] - 0s 5ms/step - loss: 1.4900e-04 - mean_squared_error: 1.4900e-04 - val_loss: 1.3437e-04 - val_mean_squared_error: 1.3437e-04\n",
            "Epoch 44/50\n",
            "46/46 [==============================] - 0s 4ms/step - loss: 9.0445e-05 - mean_squared_error: 9.0445e-05 - val_loss: 3.0258e-04 - val_mean_squared_error: 3.0258e-04\n",
            "Epoch 45/50\n",
            "46/46 [==============================] - 0s 5ms/step - loss: 1.6113e-04 - mean_squared_error: 1.6113e-04 - val_loss: 1.5714e-04 - val_mean_squared_error: 1.5714e-04\n",
            "Epoch 46/50\n",
            "46/46 [==============================] - 0s 5ms/step - loss: 2.4644e-04 - mean_squared_error: 2.4644e-04 - val_loss: 3.0636e-04 - val_mean_squared_error: 3.0636e-04\n",
            "Epoch 47/50\n",
            "46/46 [==============================] - 0s 5ms/step - loss: 3.9680e-04 - mean_squared_error: 3.9680e-04 - val_loss: 3.0648e-04 - val_mean_squared_error: 3.0648e-04\n",
            "Epoch 48/50\n",
            "46/46 [==============================] - 0s 5ms/step - loss: 1.5777e-04 - mean_squared_error: 1.5777e-04 - val_loss: 1.1615e-04 - val_mean_squared_error: 1.1615e-04\n",
            "Epoch 49/50\n",
            "46/46 [==============================] - 0s 4ms/step - loss: 3.5017e-04 - mean_squared_error: 3.5017e-04 - val_loss: 2.7894e-04 - val_mean_squared_error: 2.7894e-04\n",
            "Epoch 50/50\n",
            "46/46 [==============================] - 0s 5ms/step - loss: 1.9471e-04 - mean_squared_error: 1.9471e-04 - val_loss: 1.2307e-04 - val_mean_squared_error: 1.2307e-04\n"
          ]
        },
        {
          "output_type": "execute_result",
          "data": {
            "text/plain": [
              "<keras.src.callbacks.History at 0x7996cd54d3f0>"
            ]
          },
          "metadata": {},
          "execution_count": 65
        }
      ]
    },
    {
      "cell_type": "code",
      "source": [
        "hyper_model.summary()"
      ],
      "metadata": {
        "colab": {
          "base_uri": "https://localhost:8080/"
        },
        "id": "Q1Pe-BOsxO2q",
        "outputId": "0d614521-1c02-44a8-b642-cefda5836e50"
      },
      "execution_count": 66,
      "outputs": [
        {
          "output_type": "stream",
          "name": "stdout",
          "text": [
            "Model: \"sequential_2\"\n",
            "_________________________________________________________________\n",
            " Layer (type)                Output Shape              Param #   \n",
            "=================================================================\n",
            " dense_8 (Dense)             (None, 21)                210       \n",
            "                                                                 \n",
            " dense_9 (Dense)             (None, 83)                1826      \n",
            "                                                                 \n",
            " dense_10 (Dense)            (None, 53)                4452      \n",
            "                                                                 \n",
            " dense_11 (Dense)            (None, 1)                 54        \n",
            "                                                                 \n",
            "=================================================================\n",
            "Total params: 6542 (25.55 KB)\n",
            "Trainable params: 6542 (25.55 KB)\n",
            "Non-trainable params: 0 (0.00 Byte)\n",
            "_________________________________________________________________\n"
          ]
        }
      ]
    },
    {
      "cell_type": "code",
      "source": [
        "dot_img_file = '/tmp/model_1.png'\n",
        "keras.utils.plot_model(hyper_model, to_file=dot_img_file, show_shapes=True)"
      ],
      "metadata": {
        "colab": {
          "base_uri": "https://localhost:8080/",
          "height": 533
        },
        "id": "bKcc3yviqvki",
        "outputId": "87ecca47-3426-4640-f42e-8064c6072785"
      },
      "execution_count": 67,
      "outputs": [
        {
          "output_type": "execute_result",
          "data": {
            "image/png": "[encoded data removed]",
            "text/plain": [
              "<IPython.core.display.Image object>"
            ]
          },
          "metadata": {},
          "execution_count": 67
        }
      ]
    },
    {
      "cell_type": "code",
      "source": [
        "hyper_model.evaluate(X_test,y_test)"
      ],
      "metadata": {
        "id": "0HGdFnDuYE-P",
        "colab": {
          "base_uri": "https://localhost:8080/"
        },
        "outputId": "b285876e-979e-406d-e689-d07b1cd87011"
      },
      "execution_count": 68,
      "outputs": [
        {
          "output_type": "stream",
          "name": "stdout",
          "text": [
            "16/16 [==============================] - 0s 8ms/step - loss: 1.2764e-04 - mean_squared_error: 1.2764e-04\n"
          ]
        },
        {
          "output_type": "execute_result",
          "data": {
            "text/plain": [
              "[0.00012763583799824119, 0.00012763583799824119]"
            ]
          },
          "metadata": {},
          "execution_count": 68
        }
      ]
    },
    {
      "cell_type": "code",
      "source": [
        "prediction = hyper_model.predict([X_test])"
      ],
      "metadata": {
        "colab": {
          "base_uri": "https://localhost:8080/"
        },
        "id": "O_FM6QmA_4wB",
        "outputId": "2add97ef-cdbb-4949-9715-c19f983f5069"
      },
      "execution_count": 69,
      "outputs": [
        {
          "output_type": "stream",
          "name": "stdout",
          "text": [
            "16/16 [==============================] - 1s 18ms/step\n"
          ]
        }
      ]
    },
    {
      "cell_type": "code",
      "source": [
        "from sklearn.metrics import r2_score\n",
        "r2_score(y_test, prediction)"
      ],
      "metadata": {
        "colab": {
          "base_uri": "https://localhost:8080/"
        },
        "id": "H_MLPohCPLxx",
        "outputId": "5e6e98c8-05af-418e-abee-b163f2121e91"
      },
      "execution_count": 70,
      "outputs": [
        {
          "output_type": "execute_result",
          "data": {
            "text/plain": [
              "0.9998740473389027"
            ]
          },
          "metadata": {},
          "execution_count": 70
        }
      ]
    },
    {
      "cell_type": "code",
      "source": [
        "print(X_test)\n"
      ],
      "metadata": {
        "colab": {
          "base_uri": "https://localhost:8080/"
        },
        "id": "DfZZ6ffIJOo6",
        "outputId": "678dd4ba-966e-4ef9-9a16-5ea5518dd09a"
      },
      "execution_count": 61,
      "outputs": [
        {
          "output_type": "stream",
          "name": "stdout",
          "text": [
            "            C3       H2R  Pressure     Level        C2       Cat      Temp  \\\n",
            "1494  0.087573  0.168655 -0.632432 -0.987282 -0.682758 -0.019470 -0.699663   \n",
            "1759  0.227208 -0.707419 -1.111178 -0.533760 -0.157211 -0.128966  0.819762   \n",
            "2311 -0.558389 -0.922847  0.534145 -0.543273 -0.234239 -1.215863  0.112608   \n",
            "2054 -2.026918 -0.233477  0.479016 -1.459837 -1.994886 -0.762384 -0.734463   \n",
            "469   2.044872  0.656959 -0.243673  0.357889  2.047001  0.463943  0.137523   \n",
            "...        ...       ...       ...       ...       ...       ...       ...   \n",
            "575   1.307844 -0.563800 -0.883896  0.180650  0.167518  0.933323 -0.102759   \n",
            "1314 -0.674272  0.226103 -0.718087 -0.262985 -0.197741  0.414989  0.102575   \n",
            "106  -0.044851 -0.247839 -0.682970  1.026930  0.343685 -0.704025 -1.776537   \n",
            "1042  0.144858  1.030367  0.339382 -0.535032  0.867729  0.427929  0.016130   \n",
            "1836 -0.725522 -0.003687  0.546433  1.427681  0.385073 -0.816335  2.267899   \n",
            "\n",
            "           MFR     lnMFR  \n",
            "1494 -0.866891 -0.898429  \n",
            "1759 -0.846585 -0.856259  \n",
            "2311  0.879439  1.001124  \n",
            "2054  0.960664  1.051730  \n",
            "469   1.062194  1.112791  \n",
            "...        ...       ...  \n",
            "575  -0.846585 -0.856259  \n",
            "1314 -0.948115 -1.079345  \n",
            "106   0.513928  0.750926  \n",
            "1042  1.143419  1.159998  \n",
            "1836  1.224644  1.205835  \n",
            "\n",
            "[490 rows x 9 columns]\n"
          ]
        }
      ]
    },
    {
      "cell_type": "code",
      "source": [
        "plt.plot(y_test, prediction ,'b.')"
      ],
      "metadata": {
        "colab": {
          "base_uri": "https://localhost:8080/",
          "height": 448
        },
        "id": "kfeT5fKrAKD9",
        "outputId": "3a1bba62-c3f9-40a0-9471-cdc27be4bee0"
      },
      "execution_count": 62,
      "outputs": [
        {
          "output_type": "execute_result",
          "data": {
            "text/plain": [
              "[<matplotlib.lines.Line2D at 0x7bac4d9fe500>]"
            ]
          },
          "metadata": {},
          "execution_count": 62
        },
        {
          "output_type": "display_data",
          "data": {
            "text/plain": [
              "<Figure size 640x480 with 1 Axes>"
            ],
            "image/png": "[encoded data removed]"
          },
          "metadata": {}
        }
      ]
    },
    {
      "cell_type": "code",
      "source": [],
      "metadata": {
        "id": "nczZzT5Gdz4d"
      },
      "execution_count": 62,
      "outputs": []
    },
    {
      "cell_type": "code",
      "source": [
        "time = []\n",
        "num = 0\n",
        "for date in reactor_data_w_time['Time']:\n",
        "  if num %5 == 0:\n",
        "    time.append(date)\n",
        "  num+=1"
      ],
      "metadata": {
        "id": "_H2RCRr8d0C8"
      },
      "execution_count": 63,
      "outputs": []
    },
    {
      "cell_type": "code",
      "source": [
        "time = time[:-7]"
      ],
      "metadata": {
        "id": "g1pnX2epqBUJ"
      },
      "execution_count": 64,
      "outputs": []
    },
    {
      "cell_type": "code",
      "source": [
        "plt.xticks(rotation=90)\n",
        "plt.scatter(x=time, y=y_test)\n",
        "plt.scatter(x=time, y=prediction)\n",
        "classes = ['Test Data', 'Predictions']\n",
        "plt.legend(labels=classes)\n",
        "plt.show()"
      ],
      "metadata": {
        "id": "wlM0VZEIKV7b",
        "colab": {
          "base_uri": "https://localhost:8080/",
          "height": 474
        },
        "outputId": "0c02cf99-a36b-4551-977f-e340bb79280d"
      },
      "execution_count": 65,
      "outputs": [
        {
          "output_type": "display_data",
          "data": {
            "text/plain": [
              "<Figure size 640x480 with 1 Axes>"
            ],
            "image/png": "[encoded data removed]"
          },
          "metadata": {}
        }
      ]
    },
    {
      "cell_type": "markdown",
      "source": [
        "##TPOT"
      ],
      "metadata": {
        "id": "HJt7YdcpKjw7"
      }
    },
    {
      "cell_type": "code",
      "source": [
        "!pip install tpot"
      ],
      "metadata": {
        "colab": {
          "base_uri": "https://localhost:8080/",
          "height": 859
        },
        "id": "2WDaQfjwKi1G",
        "outputId": "847733eb-dc4e-4638-b32e-b64cead427ee"
      },
      "execution_count": 71,
      "outputs": [
        {
          "output_type": "stream",
          "name": "stdout",
          "text": [
            "Collecting tpot\n",
            "  Downloading TPOT-0.12.2-py3-none-any.whl (87 kB)\n",
            "\u001b[?25l     \u001b[90m━━━━━━━━━━━━━━━━━━━━━━━━━━━━━━━━━━━━━━━━\u001b[0m \u001b[32m0.0/87.4 kB\u001b[0m \u001b[31m?\u001b[0m eta \u001b[36m-:--:--\u001b[0m\r\u001b[2K     \u001b[90m━━━━━━━━━━━━━━━━━━━━━━━━━━━━━━━━━━━━━━━━\u001b[0m \u001b[32m87.4/87.4 kB\u001b[0m \u001b[31m2.5 MB/s\u001b[0m eta \u001b[36m0:00:00\u001b[0m\n",
            "\u001b[?25hRequirement already satisfied: numpy>=1.16.3 in /usr/local/lib/python3.10/dist-packages (from tpot) (1.25.2)\n",
            "Requirement already satisfied: scipy>=1.3.1 in /usr/local/lib/python3.10/dist-packages (from tpot) (1.11.4)\n",
            "Collecting scikit-learn>=1.4.1 (from tpot)\n",
            "  Downloading scikit_learn-1.4.1.post1-cp310-cp310-manylinux_2_17_x86_64.manylinux2014_x86_64.whl (12.1 MB)\n",
            "\u001b[2K     \u001b[90m━━━━━━━━━━━━━━━━━━━━━━━━━━━━━━━━━━━━━━━━\u001b[0m \u001b[32m12.1/12.1 MB\u001b[0m \u001b[31m23.3 MB/s\u001b[0m eta \u001b[36m0:00:00\u001b[0m\n",
            "\u001b[?25hCollecting deap>=1.2 (from tpot)\n",
            "  Downloading deap-1.4.1-cp310-cp310-manylinux_2_5_x86_64.manylinux1_x86_64.manylinux_2_17_x86_64.manylinux2014_x86_64.whl (135 kB)\n",
            "\u001b[2K     \u001b[90m━━━━━━━━━━━━━━━━━━━━━━━━━━━━━━━━━━━━━━━━\u001b[0m \u001b[32m135.4/135.4 kB\u001b[0m \u001b[31m14.1 MB/s\u001b[0m eta \u001b[36m0:00:00\u001b[0m\n",
            "\u001b[?25hCollecting update-checker>=0.16 (from tpot)\n",
            "  Downloading update_checker-0.18.0-py3-none-any.whl (7.0 kB)\n",
            "Requirement already satisfied: tqdm>=4.36.1 in /usr/local/lib/python3.10/dist-packages (from tpot) (4.66.2)\n",
            "Collecting stopit>=1.1.1 (from tpot)\n",
            "  Downloading stopit-1.1.2.tar.gz (18 kB)\n",
            "  Preparing metadata (setup.py) ... \u001b[?25l\u001b[?25hdone\n",
            "Requirement already satisfied: pandas>=0.24.2 in /usr/local/lib/python3.10/dist-packages (from tpot) (1.5.3)\n",
            "Requirement already satisfied: joblib>=0.13.2 in /usr/local/lib/python3.10/dist-packages (from tpot) (1.3.2)\n",
            "Requirement already satisfied: xgboost>=1.1.0 in /usr/local/lib/python3.10/dist-packages (from tpot) (2.0.3)\n",
            "Requirement already satisfied: python-dateutil>=2.8.1 in /usr/local/lib/python3.10/dist-packages (from pandas>=0.24.2->tpot) (2.8.2)\n",
            "Requirement already satisfied: pytz>=2020.1 in /usr/local/lib/python3.10/dist-packages (from pandas>=0.24.2->tpot) (2023.4)\n",
            "Requirement already satisfied: threadpoolctl>=2.0.0 in /usr/local/lib/python3.10/dist-packages (from scikit-learn>=1.4.1->tpot) (3.3.0)\n",
            "Requirement already satisfied: requests>=2.3.0 in /usr/local/lib/python3.10/dist-packages (from update-checker>=0.16->tpot) (2.31.0)\n",
            "Requirement already satisfied: six>=1.5 in /usr/local/lib/python3.10/dist-packages (from python-dateutil>=2.8.1->pandas>=0.24.2->tpot) (1.16.0)\n",
            "Requirement already satisfied: charset-normalizer<4,>=2 in /usr/local/lib/python3.10/dist-packages (from requests>=2.3.0->update-checker>=0.16->tpot) (3.3.2)\n",
            "Requirement already satisfied: idna<4,>=2.5 in /usr/local/lib/python3.10/dist-packages (from requests>=2.3.0->update-checker>=0.16->tpot) (3.6)\n",
            "Requirement already satisfied: urllib3<3,>=1.21.1 in /usr/local/lib/python3.10/dist-packages (from requests>=2.3.0->update-checker>=0.16->tpot) (2.0.7)\n",
            "Requirement already satisfied: certifi>=2017.4.17 in /usr/local/lib/python3.10/dist-packages (from requests>=2.3.0->update-checker>=0.16->tpot) (2024.2.2)\n",
            "Building wheels for collected packages: stopit\n",
            "  Building wheel for stopit (setup.py) ... \u001b[?25l\u001b[?25hdone\n",
            "  Created wheel for stopit: filename=stopit-1.1.2-py3-none-any.whl size=11938 sha256=98369f1ce0c71b2124690b6911d8a2d0dc12bf9a42d337c421750218ea3d8f53\n",
            "  Stored in directory: /root/.cache/pip/wheels/af/f9/87/bf5b3d565c2a007b4dae9d8142dccc85a9f164e517062dd519\n",
            "Successfully built stopit\n",
            "Installing collected packages: stopit, deap, update-checker, scikit-learn, tpot\n",
            "  Attempting uninstall: scikit-learn\n",
            "    Found existing installation: scikit-learn 1.2.2\n",
            "    Uninstalling scikit-learn-1.2.2:\n",
            "      Successfully uninstalled scikit-learn-1.2.2\n",
            "Successfully installed deap-1.4.1 scikit-learn-1.4.1.post1 stopit-1.1.2 tpot-0.12.2 update-checker-0.18.0\n"
          ]
        },
        {
          "output_type": "display_data",
          "data": {
            "application/vnd.colab-display-data+json": {
              "pip_warning": {
                "packages": [
                  "sklearn"
                ]
              },
              "id": "ba268a7287dc4c6088b0caa7ebac116f"
            }
          },
          "metadata": {}
        }
      ]
    },
    {
      "cell_type": "code",
      "source": [
        "from tpot import TPOTRegressor\n"
      ],
      "metadata": {
        "id": "2xhy5IR4sVO2"
      },
      "execution_count": 38,
      "outputs": []
    },
    {
      "cell_type": "code",
      "source": [
        "\n",
        "\n",
        "tpot = TPOTRegressor(generations=10, population_size=10, cv=10, verbosity=2,  random_state=0, n_jobs=-1)"
      ],
      "metadata": {
        "id": "JHqWfTulquLu"
      },
      "execution_count": 39,
      "outputs": []
    },
    {
      "cell_type": "code",
      "source": [
        "import time\n",
        "#Starting Timer\n",
        "t0 = time.time()\n",
        "#Creating the Classification Model\n",
        "optimized = tpot.fit(X_train_full, y_train_full)\n",
        "#Stopping Timer\n",
        "t1 = time.time()\n",
        "#Printing Execution Time for fit\n",
        "total = t1-t0\n",
        "time_taken =  \" The total time taken to run is: \" + str(total) + \" seconds\""
      ],
      "metadata": {
        "colab": {
          "base_uri": "https://localhost:8080/",
          "height": 435,
          "referenced_widgets": [
            "a3a0686e056148759db5fdb4bfb09ce3",
            "997a26654cd14b3f9eae6e671c1b54de",
            "af5c3b32505a41ad93f8f263df0112cc",
            "85a85ff82297406b82b6dec2af075a1c",
            "54089430d2894a789158df582d5604f9",
            "d9c8400b58bc4103add8c157fc4e8e99",
            "e8a3e917d116482195d0b3206f6ae48c",
            "796f208b24904ea1907ed9e1d895a12d",
            "a25389317acc41f097f2cb982f0f246a",
            "1a49517defa7418e892d6be200a6201c",
            "2c81be1fce5a41ba97c1007b10fdc3c7"
          ]
        },
        "id": "ayqIV_R0sd3g",
        "outputId": "7bc1acb5-85a5-4c07-f4d7-884bb31a780f"
      },
      "execution_count": 40,
      "outputs": [
        {
          "output_type": "display_data",
          "data": {
            "text/plain": [
              "Optimization Progress:   0%|          | 0/110 [00:00<?, ?pipeline/s]"
            ],
            "application/vnd.jupyter.widget-view+json": {
              "version_major": 2,
              "version_minor": 0,
              "model_id": "a3a0686e056148759db5fdb4bfb09ce3"
            }
          },
          "metadata": {}
        },
        {
          "output_type": "stream",
          "name": "stdout",
          "text": [
            "\n",
            "Generation 1 - Current best internal CV score: -1.4798801679457053e-07\n",
            "\n",
            "Generation 2 - Current best internal CV score: -1.4798801679457053e-07\n",
            "\n",
            "Generation 3 - Current best internal CV score: -1.472428046067685e-07\n",
            "\n",
            "Generation 4 - Current best internal CV score: -3.7237290424207875e-08\n",
            "\n",
            "Generation 5 - Current best internal CV score: -3.7237290424207875e-08\n",
            "\n",
            "Generation 6 - Current best internal CV score: -1.676967301893387e-08\n",
            "\n",
            "Generation 7 - Current best internal CV score: -1.676967301893387e-08\n",
            "\n",
            "Generation 8 - Current best internal CV score: -9.43683752514229e-09\n",
            "\n",
            "Generation 9 - Current best internal CV score: -9.43683752514229e-09\n",
            "\n",
            "Generation 10 - Current best internal CV score: -9.43683752514229e-09\n",
            "\n",
            "Best pipeline: RidgeCV(LinearSVR(LinearSVR(LinearSVR(input_matrix, C=10.0, dual=True, epsilon=0.001, loss=epsilon_insensitive, tol=0.01), C=10.0, dual=True, epsilon=0.0001, loss=epsilon_insensitive, tol=0.01), C=10.0, dual=True, epsilon=0.0001, loss=epsilon_insensitive, tol=0.01))\n"
          ]
        }
      ]
    },
    {
      "cell_type": "code",
      "source": [
        "tpot.export('mfr_regressor.py')"
      ],
      "metadata": {
        "id": "F6tK1CkWu0tU"
      },
      "execution_count": 41,
      "outputs": []
    },
    {
      "cell_type": "code",
      "source": [
        "print(time_taken)"
      ],
      "metadata": {
        "colab": {
          "base_uri": "https://localhost:8080/"
        },
        "id": "pErZkrRyu4DW",
        "outputId": "01f55b78-eecd-47eb-a05e-fd9a8555013b"
      },
      "execution_count": 42,
      "outputs": [
        {
          "output_type": "stream",
          "name": "stdout",
          "text": [
            " The total time taken to run is: 301.67151379585266 seconds\n"
          ]
        }
      ]
    },
    {
      "cell_type": "markdown",
      "source": [
        "scoring metric is mean squared error"
      ],
      "metadata": {
        "id": "gQABKVcyw7TW"
      }
    },
    {
      "cell_type": "code",
      "source": [
        "#RSME\n",
        "np.sqrt(np.mean((predictions-y_test)**2))"
      ],
      "metadata": {
        "colab": {
          "base_uri": "https://localhost:8080/"
        },
        "id": "1y88Vjo5YJIG",
        "outputId": "e2d4511f-3381-4ef0-88a9-3b4d4020b6f6"
      },
      "execution_count": 54,
      "outputs": [
        {
          "output_type": "execute_result",
          "data": {
            "text/plain": [
              "8.974601980069969e-05"
            ]
          },
          "metadata": {},
          "execution_count": 54
        }
      ]
    },
    {
      "cell_type": "code",
      "source": [
        "print(tpot.score(X_test, y_test))"
      ],
      "metadata": {
        "colab": {
          "base_uri": "https://localhost:8080/"
        },
        "id": "MzZY4LCWu8H-",
        "outputId": "2af11086-696c-4430-e8d3-89b7ab828ede"
      },
      "execution_count": 43,
      "outputs": [
        {
          "output_type": "stream",
          "name": "stdout",
          "text": [
            "-8.05434807006758e-09\n"
          ]
        },
        {
          "output_type": "stream",
          "name": "stderr",
          "text": [
            "/usr/local/lib/python3.10/dist-packages/sklearn/base.py:493: UserWarning: X does not have valid feature names, but LinearSVR was fitted with feature names\n",
            "  warnings.warn(\n"
          ]
        }
      ]
    },
    {
      "cell_type": "code",
      "source": [
        "predictions = tpot.predict(X_test)"
      ],
      "metadata": {
        "colab": {
          "base_uri": "https://localhost:8080/"
        },
        "id": "02xnUukNvgAg",
        "outputId": "2ed850bc-d703-46be-c7a0-70079361fa00"
      },
      "execution_count": 44,
      "outputs": [
        {
          "output_type": "stream",
          "name": "stderr",
          "text": [
            "/usr/local/lib/python3.10/dist-packages/sklearn/base.py:493: UserWarning: X does not have valid feature names, but LinearSVR was fitted with feature names\n",
            "  warnings.warn(\n"
          ]
        }
      ]
    },
    {
      "cell_type": "code",
      "source": [
        "from sklearn.metrics import r2_score\n",
        "r2_score(y_test, predictions)"
      ],
      "metadata": {
        "colab": {
          "base_uri": "https://localhost:8080/"
        },
        "id": "PaejEzSDP9OO",
        "outputId": "9177c4f1-ee24-4273-c470-38ff35baf15d"
      },
      "execution_count": 45,
      "outputs": [
        {
          "output_type": "execute_result",
          "data": {
            "text/plain": [
              "0.999999992017482"
            ]
          },
          "metadata": {},
          "execution_count": 45
        }
      ]
    },
    {
      "cell_type": "code",
      "source": [
        "time = []\n",
        "num = 0\n",
        "for date in reactor_data_w_time['Time']:\n",
        "  if num %5 == 0:\n",
        "    time.append(date)\n",
        "  num+=1"
      ],
      "metadata": {
        "id": "OKYEMqpVaLgu"
      },
      "execution_count": 46,
      "outputs": []
    },
    {
      "cell_type": "code",
      "source": [
        "len(time)"
      ],
      "metadata": {
        "colab": {
          "base_uri": "https://localhost:8080/"
        },
        "id": "uJxVKPVHbAYi",
        "outputId": "947f716b-997c-4329-ed3d-1b754c8f4e2e"
      },
      "execution_count": 47,
      "outputs": [
        {
          "output_type": "execute_result",
          "data": {
            "text/plain": [
              "497"
            ]
          },
          "metadata": {},
          "execution_count": 47
        }
      ]
    },
    {
      "cell_type": "code",
      "source": [
        "time = time[:-7]"
      ],
      "metadata": {
        "id": "rScDUj2gby2k"
      },
      "execution_count": 48,
      "outputs": []
    },
    {
      "cell_type": "code",
      "source": [
        "len(predictions)"
      ],
      "metadata": {
        "colab": {
          "base_uri": "https://localhost:8080/"
        },
        "id": "t1Jkx4AWbShr",
        "outputId": "21ac861f-5ea3-495f-d12b-aaa9ab7e6d35"
      },
      "execution_count": 49,
      "outputs": [
        {
          "output_type": "execute_result",
          "data": {
            "text/plain": [
              "490"
            ]
          },
          "metadata": {},
          "execution_count": 49
        }
      ]
    },
    {
      "cell_type": "code",
      "source": [
        "import seaborn as sns\n",
        "\n",
        "time1 =time"
      ],
      "metadata": {
        "id": "OkxT_rjhO73y"
      },
      "execution_count": 50,
      "outputs": []
    },
    {
      "cell_type": "code",
      "source": [
        "plt.xticks(rotation=90)\n",
        "plt.scatter(x=time, y=y_test)\n",
        "plt.scatter(x=time1, y=predictions)\n",
        "classes = ['Test Data', 'Predictions']\n",
        "plt.legend(labels=classes)\n",
        "plt.show()"
      ],
      "metadata": {
        "colab": {
          "base_uri": "https://localhost:8080/",
          "height": 474
        },
        "id": "CSOC4nL2YKMe",
        "outputId": "9d9cf204-6f00-417e-90df-930afad08849"
      },
      "execution_count": 51,
      "outputs": [
        {
          "output_type": "display_data",
          "data": {
            "text/plain": [
              "<Figure size 640x480 with 1 Axes>"
            ],
            "image/png": "[encoded data removed]"
          },
          "metadata": {}
        }
      ]
    },
    {
      "cell_type": "code",
      "source": [
        "plt.xticks(rotation=90)\n",
        "\n",
        "plt.scatter(x=time1, y=predictions)\n",
        "plt.scatter(x=time, y=y_test)\n",
        "classes = ['Predictions','Test Data']\n",
        "plt.legend(labels=classes)\n",
        "plt.show()"
      ],
      "metadata": {
        "colab": {
          "base_uri": "https://localhost:8080/",
          "height": 474
        },
        "id": "014El1sAcgFi",
        "outputId": "0b35d99d-530c-4453-c99d-cda5fde6c37a"
      },
      "execution_count": 52,
      "outputs": [
        {
          "output_type": "display_data",
          "data": {
            "text/plain": [
              "<Figure size 640x480 with 1 Axes>"
            ],
            "image/png": "[encoded data removed]"
          },
          "metadata": {}
        }
      ]
    },
    {
      "cell_type": "code",
      "source": [],
      "metadata": {
        "id": "JPpLiKtRW0C_"
      },
      "execution_count": null,
      "outputs": []
    }
  ]
}